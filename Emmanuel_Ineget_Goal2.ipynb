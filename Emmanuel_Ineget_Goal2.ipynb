{
 "cells": [
  {
   "cell_type": "markdown",
   "metadata": {},
   "source": [
    "# ===========================================================\n",
    "# NAME: EMMANUEL INEGET\n",
    "# COURSE NAME: DATA ANALYSIS AND PROCESS MINING \n",
    "# COURSE CODE: DSC8204\n",
    "# COURSE FACILITATOR(S):  DR. DAPHINE NYACHAKI BITALO\n",
    "# EXAM TYPE: PROJECT-BASED EXAM"
   ]
  },
  {
   "cell_type": "code",
   "execution_count": null,
   "metadata": {},
   "outputs": [],
   "source": []
  },
  {
   "cell_type": "markdown",
   "metadata": {},
   "source": [
    "# PART A - Goal 2: Natural Language Processing in the Law [30 Marks]"
   ]
  },
  {
   "cell_type": "markdown",
   "metadata": {},
   "source": [
    "1. Language Data Summary:  \n",
    "    - a. Data source: Mine for any two judgements from the Uganda Legal Information Institute (ULII) website (https://ulii.org/judgments/) passed in the last 5 years."
   ]
  },
  {
   "cell_type": "code",
   "execution_count": 1,
   "metadata": {},
   "outputs": [],
   "source": [
    "# # Note: Some of the Libraries are already installed. I shall now start by installing some of the additional libraries that i shall need to accomplish the task.\n",
    "# !pip install requests\n",
    "# !pip install beautifulsoup4\n",
    "# !pip install nltk\n",
    "# !pip install transformers\n",
    "# !pip install torch torchvision torchaudio\n",
    "# !pip install sumy"
   ]
  },
  {
   "cell_type": "code",
   "execution_count": 14,
   "metadata": {},
   "outputs": [],
   "source": [
    "# Download NLTK resources (run once)\n",
    "# nltk.download('punkt')\n",
    "# nltk.download('stopwords')\n",
    "# nltk.download('punkt_tab')\n",
    "\n",
    "# %pip install requests beautifulsoup4 nltk transformers torch \n",
    "\n",
    "# %pip install sumy pandas seaborn wordcloud matplotlib"
   ]
  },
  {
   "cell_type": "code",
   "execution_count": 8,
   "metadata": {},
   "outputs": [],
   "source": [
    "# I shall now import the necessary libraries\n",
    "import requests\n",
    "from bs4 import BeautifulSoup\n",
    "import nltk\n",
    "from nltk.tokenize import word_tokenize\n",
    "from nltk.corpus import stopwords\n",
    "\n",
    "from transformers import pipeline\n",
    "\n",
    "import pandas as pd\n",
    "import numpy as np\n",
    "\n",
    "import csv\n",
    "from nltk.tokenize import sent_tokenize\n",
    "import torch\n",
    "\n",
    "import re\n",
    "import string\n",
    "from nltk.corpus import stopwords\n",
    "from nltk.tokenize import word_tokenize\n",
    "from nltk.stem import WordNetLemmatizer\n",
    "\n",
    "from sumy.parsers.plaintext import PlaintextParser\n",
    "from sumy.nlp.tokenizers import Tokenizer\n",
    "from sumy.summarizers.lex_rank import LexRankSummarizer\n",
    "\n",
    "from sklearn.feature_extraction.text import TfidfVectorizer\n",
    "\n",
    "import matplotlib.pyplot as plt\n",
    "import seaborn as sns\n",
    "\n",
    "from collections import Counter\n",
    "from wordcloud import WordCloud\n",
    "\n",
    "import warnings\n",
    "warnings.filterwarnings('ignore')"
   ]
  },
  {
   "cell_type": "code",
   "execution_count": 9,
   "metadata": {},
   "outputs": [
    {
     "name": "stdout",
     "output_type": "stream",
     "text": [
      "Metadata successfully saved to ulii_judgments_metadata.csv\n"
     ]
    }
   ],
   "source": [
    "# List of judgment URLs to scrape\n",
    "judgment_urls = [\n",
    "    \"https://ulii.org/akn/ug/judgment/ugcommc/2024/347/eng@2024-12-31\",\n",
    "    \"https://ulii.org/akn/ug/judgment/ugcommc/2024/346/eng@2024-12-31\"\n",
    "]\n",
    "\n",
    "# CSV filename\n",
    "csv_filename = \"ulii_judgments_metadata.csv\"\n",
    "\n",
    "# Define CSV headers\n",
    "headers = [\"Citation\", \"Media Neutral Citation\", \"Court\", \"Case Number\", \"Judges\", \n",
    "           \"Judgment Date\", \"Language\", \"Type\", \"Flynote\", \"Case Summary\", \"Order\", \"Judgment Link\"]\n",
    "\n",
    "# Function to extract text \n",
    "def get_text(element):\n",
    "    return element.text.strip() if element else \"N/A\"\n",
    "\n",
    "# Function to scrape metadata from a judgment page\n",
    "def scrape_judgment_metadata(url):\n",
    "    response = requests.get(url)\n",
    "    if response.status_code != 200:\n",
    "        print(f\"Failed to access {url}\")\n",
    "        return None\n",
    "    \n",
    "    soup = BeautifulSoup(response.content, \"html.parser\")\n",
    "\n",
    "    # Extract metadata using relevant tags\n",
    "    citation = get_text(soup.find(\"dd\", class_=\"text-muted\"))\n",
    "    media_citation = get_text(soup.find_all(\"dd\", class_=\"text-muted\")[1])  # Second occurrence\n",
    "    court = get_text(soup.find(\"a\", href=\"/judgments/UGCommC/\"))\n",
    "    case_number = get_text(soup.find_all(\"dd\", class_=\"text-muted\")[3])  # Case number index\n",
    "    judges = get_text(soup.find_all(\"dd\", class_=\"text-muted\")[4])  # Judges index\n",
    "    judgment_date = get_text(soup.find_all(\"dd\", class_=\"text-muted\")[5])  # Judgment date index\n",
    "    language = get_text(soup.find_all(\"dd\", class_=\"text-muted\")[6])  # Language index\n",
    "    judgment_type = get_text(soup.find_all(\"dd\", class_=\"text-muted\")[7])  # Type index\n",
    "    \n",
    "    checker = soup.find(\"dl\", class_=\"document-metadata-list d-md-flex\").find_all(\"dt\")\n",
    "    case_summary = \"N/A\"\n",
    "    flynote = \"N/A\"\n",
    "    order = \"N/A\"\n",
    "    for row in checker:\n",
    "        match row.text.strip():\n",
    "            case \"Flynote\":\n",
    "                flynote = row.find_next_sibling(\"dd\").text.strip() \n",
    "                \n",
    "            case \"Case summary\":\n",
    "                case_summary = row.find_next_sibling(\"dd\").text.strip()\n",
    "                \n",
    "            case \"Order\":\n",
    "                order = row.find_next_sibling(\"dd\").text.strip()\n",
    "\n",
    "    return [citation, media_citation, court, case_number, judges, judgment_date, language, \n",
    "            judgment_type, flynote, case_summary, order, url]\n",
    "\n",
    "# Scrape all judgments and store data\n",
    "collected_data = []\n",
    "for url in judgment_urls:\n",
    "    metadata = scrape_judgment_metadata(url)\n",
    "    if metadata:\n",
    "        collected_data.append(metadata)\n",
    "\n",
    "# Save extracted metadata to CSV\n",
    "with open(csv_filename, mode=\"w\", newline=\"\", encoding=\"utf-8\") as file:\n",
    "    writer = csv.writer(file)\n",
    "    writer.writerow(headers)\n",
    "    writer.writerows(collected_data)\n",
    "\n",
    "print(f\"Metadata successfully saved to {csv_filename}\")\n"
   ]
  },
  {
   "cell_type": "code",
   "execution_count": null,
   "metadata": {},
   "outputs": [],
   "source": []
  },
  {
   "cell_type": "markdown",
   "metadata": {},
   "source": [
    "- b. Using the appropriate NLP tools, summarize the judgements passed in the legal cases above. "
   ]
  },
  {
   "cell_type": "code",
   "execution_count": 10,
   "metadata": {},
   "outputs": [
    {
     "data": {
      "application/vnd.microsoft.datawrangler.viewer.v0+json": {
       "columns": [
        {
         "name": "index",
         "rawType": "int64",
         "type": "integer"
        },
        {
         "name": "Citation",
         "rawType": "object",
         "type": "string"
        },
        {
         "name": "Media Neutral Citation",
         "rawType": "object",
         "type": "string"
        },
        {
         "name": "Court",
         "rawType": "object",
         "type": "string"
        },
        {
         "name": "Case Number",
         "rawType": "object",
         "type": "string"
        },
        {
         "name": "Judges",
         "rawType": "object",
         "type": "string"
        },
        {
         "name": "Judgment Date",
         "rawType": "object",
         "type": "string"
        },
        {
         "name": "Language",
         "rawType": "object",
         "type": "string"
        },
        {
         "name": "Type",
         "rawType": "object",
         "type": "string"
        },
        {
         "name": "Flynote",
         "rawType": "object",
         "type": "string"
        },
        {
         "name": "Case Summary",
         "rawType": "object",
         "type": "string"
        },
        {
         "name": "Order",
         "rawType": "float64",
         "type": "float"
        },
        {
         "name": "Judgment Link",
         "rawType": "object",
         "type": "string"
        }
       ],
       "conversionMethod": "pd.DataFrame",
       "ref": "bab1f201-35dd-460c-b476-ed9e9a49ecd4",
       "rows": [
        [
         "0",
         "Majari Investments Limited v Betimo General Supplies Limited & Another (Civil Suit 562 of 2020) [2024] UGCommC 347 (31 December 2024)\n                            \n\n  \n    Copy",
         "[2024] UGCommC 347\n      \n\n  \n    Copy",
         "Commercial Court of Uganda",
         "Civil Suit 562 of 2020",
         "Mutesi, J",
         "31 December 2024",
         "English",
         "Judgment",
         "Contracts—writing requirement—money had and received—unjust enrichment—equitable restitution—burden of proof—departure from pleadings—punitive damages—interest—costs",
         "The Plaintiff sought recovery of USD 154,929, alleging the Defendants requested funds for a consignment of wine, which was paid to their supplier but not refunded. The Defendants denied the claims, citing no written contract and disputing the alleged arrangement. The Court held that the Plaintiff's claim was based on equitable restitution and unjust enrichment, not enforcement of a written contract, thus circumventing Section 10(5) of the Contracts Act, Cap 284, which mandates contracts exceeding 25 currency points to be in writing. It found the Plaintiff entitled to USD 147,929 as money had and received on the 1st Defendant's behalf but dismissed the USD 7,000 claim for lack of sufficient proof. General and punitive damages of UGX 40,000,000 and UGX 20,000,000 respectively were awarded against the 1st Defendant for fraudulent conduct and prolonged non-payment. Interest at 18% per annum on the principal sum and 15% per annum on damages was awarded, along with costs. The suit against the 2nd Defendant was dismissed.",
         null,
         "https://ulii.org/akn/ug/judgment/ugcommc/2024/347/eng@2024-12-31"
        ],
        [
         "1",
         "Mukamuriza v Karugaba & 2 Others (Civil Suit 554 of 2020) [2024] UGCommC 346 (31 December 2024)\n                            \n\n  \n    Copy",
         "[2024] UGCommC 346\n      \n\n  \n    Copy",
         "Commercial Court of Uganda",
         "Civil Suit 554 of 2020",
         "Mutesi, J",
         "31 December 2024",
         "English",
         "Judgment",
         "Land—ownership disputes—proof of purchase—burden of proof—corroboration—fraud—statute of limitations—departure from pleadings—relationship of parties—fiancée—nature of transaction—dismissal of suit—default judgment set aside—costs awarded.",
         "The Plaintiff sought ownership of land she claimed to have purchased through her then-fiancé, the 1st Defendant, who allegedly registered the land in his name and fraudulently mortgaged it without her consent. The Court found no evidence substantiating her claim, including the absence of a sale agreement, payment receipts, or corroboration of funds sent via Western Union. Her witnesses could not confirm the purchase, and she introduced unpleaded facts during trial by alleging the 2nd Defendant's registration as the land’s proprietor. The Court ruled that the Plaintiff failed to prove ownership or any proprietary rights in the land, rendering the claims of fraud irrelevant. The suit was dismissed, the default judgment against other Defendants was set aside, and costs were awarded to the 2nd Defendant for successfully defending the suit.",
         null,
         "https://ulii.org/akn/ug/judgment/ugcommc/2024/346/eng@2024-12-31"
        ]
       ],
       "shape": {
        "columns": 12,
        "rows": 2
       }
      },
      "text/html": [
       "<div>\n",
       "<style scoped>\n",
       "    .dataframe tbody tr th:only-of-type {\n",
       "        vertical-align: middle;\n",
       "    }\n",
       "\n",
       "    .dataframe tbody tr th {\n",
       "        vertical-align: top;\n",
       "    }\n",
       "\n",
       "    .dataframe thead th {\n",
       "        text-align: right;\n",
       "    }\n",
       "</style>\n",
       "<table border=\"1\" class=\"dataframe\">\n",
       "  <thead>\n",
       "    <tr style=\"text-align: right;\">\n",
       "      <th></th>\n",
       "      <th>Citation</th>\n",
       "      <th>Media Neutral Citation</th>\n",
       "      <th>Court</th>\n",
       "      <th>Case Number</th>\n",
       "      <th>Judges</th>\n",
       "      <th>Judgment Date</th>\n",
       "      <th>Language</th>\n",
       "      <th>Type</th>\n",
       "      <th>Flynote</th>\n",
       "      <th>Case Summary</th>\n",
       "      <th>Order</th>\n",
       "      <th>Judgment Link</th>\n",
       "    </tr>\n",
       "  </thead>\n",
       "  <tbody>\n",
       "    <tr>\n",
       "      <th>0</th>\n",
       "      <td>Majari Investments Limited v Betimo General Su...</td>\n",
       "      <td>[2024] UGCommC 347\\n      \\n\\n  \\n    Copy</td>\n",
       "      <td>Commercial Court of Uganda</td>\n",
       "      <td>Civil Suit 562 of 2020</td>\n",
       "      <td>Mutesi, J</td>\n",
       "      <td>31 December 2024</td>\n",
       "      <td>English</td>\n",
       "      <td>Judgment</td>\n",
       "      <td>Contracts—writing requirement—money had and re...</td>\n",
       "      <td>The Plaintiff sought recovery of USD 154,929, ...</td>\n",
       "      <td>NaN</td>\n",
       "      <td>https://ulii.org/akn/ug/judgment/ugcommc/2024/...</td>\n",
       "    </tr>\n",
       "    <tr>\n",
       "      <th>1</th>\n",
       "      <td>Mukamuriza v Karugaba &amp; 2 Others (Civil Suit 5...</td>\n",
       "      <td>[2024] UGCommC 346\\n      \\n\\n  \\n    Copy</td>\n",
       "      <td>Commercial Court of Uganda</td>\n",
       "      <td>Civil Suit 554 of 2020</td>\n",
       "      <td>Mutesi, J</td>\n",
       "      <td>31 December 2024</td>\n",
       "      <td>English</td>\n",
       "      <td>Judgment</td>\n",
       "      <td>Land—ownership disputes—proof of purchase—burd...</td>\n",
       "      <td>The Plaintiff sought ownership of land she cla...</td>\n",
       "      <td>NaN</td>\n",
       "      <td>https://ulii.org/akn/ug/judgment/ugcommc/2024/...</td>\n",
       "    </tr>\n",
       "  </tbody>\n",
       "</table>\n",
       "</div>"
      ],
      "text/plain": [
       "                                            Citation  \\\n",
       "0  Majari Investments Limited v Betimo General Su...   \n",
       "1  Mukamuriza v Karugaba & 2 Others (Civil Suit 5...   \n",
       "\n",
       "                       Media Neutral Citation                       Court  \\\n",
       "0  [2024] UGCommC 347\\n      \\n\\n  \\n    Copy  Commercial Court of Uganda   \n",
       "1  [2024] UGCommC 346\\n      \\n\\n  \\n    Copy  Commercial Court of Uganda   \n",
       "\n",
       "              Case Number     Judges     Judgment Date Language      Type  \\\n",
       "0  Civil Suit 562 of 2020  Mutesi, J  31 December 2024  English  Judgment   \n",
       "1  Civil Suit 554 of 2020  Mutesi, J  31 December 2024  English  Judgment   \n",
       "\n",
       "                                             Flynote  \\\n",
       "0  Contracts—writing requirement—money had and re...   \n",
       "1  Land—ownership disputes—proof of purchase—burd...   \n",
       "\n",
       "                                        Case Summary  Order  \\\n",
       "0  The Plaintiff sought recovery of USD 154,929, ...    NaN   \n",
       "1  The Plaintiff sought ownership of land she cla...    NaN   \n",
       "\n",
       "                                       Judgment Link  \n",
       "0  https://ulii.org/akn/ug/judgment/ugcommc/2024/...  \n",
       "1  https://ulii.org/akn/ug/judgment/ugcommc/2024/...  "
      ]
     },
     "execution_count": 10,
     "metadata": {},
     "output_type": "execute_result"
    }
   ],
   "source": [
    "legal_case_data = pd.read_csv('ulii_judgments_metadata.csv')\n",
    "legal_case_data.head()"
   ]
  },
  {
   "cell_type": "code",
   "execution_count": 11,
   "metadata": {},
   "outputs": [
    {
     "data": {
      "text/plain": [
       "Index(['Citation', 'Media Neutral Citation', 'Court', 'Case Number', 'Judges',\n",
       "       'Judgment Date', 'Language', 'Type', 'Flynote', 'Case Summary', 'Order',\n",
       "       'Judgment Link'],\n",
       "      dtype='object')"
      ]
     },
     "execution_count": 11,
     "metadata": {},
     "output_type": "execute_result"
    }
   ],
   "source": [
    "legal_case_data.columns"
   ]
  },
  {
   "cell_type": "code",
   "execution_count": 12,
   "metadata": {},
   "outputs": [
    {
     "data": {
      "application/vnd.microsoft.datawrangler.viewer.v0+json": {
       "columns": [
        {
         "name": "index",
         "rawType": "int64",
         "type": "integer"
        },
        {
         "name": "Case Summary",
         "rawType": "object",
         "type": "string"
        },
        {
         "name": "Flynote",
         "rawType": "object",
         "type": "string"
        },
        {
         "name": "Citation",
         "rawType": "object",
         "type": "string"
        }
       ],
       "conversionMethod": "pd.DataFrame",
       "ref": "262572a9-cb4c-428a-a532-60f3b25c7a74",
       "rows": [
        [
         "0",
         "The Plaintiff sought recovery of USD 154,929, alleging the Defendants requested funds for a consignment of wine, which was paid to their supplier but not refunded. The Defendants denied the claims, citing no written contract and disputing the alleged arrangement. The Court held that the Plaintiff's claim was based on equitable restitution and unjust enrichment, not enforcement of a written contract, thus circumventing Section 10(5) of the Contracts Act, Cap 284, which mandates contracts exceeding 25 currency points to be in writing. It found the Plaintiff entitled to USD 147,929 as money had and received on the 1st Defendant's behalf but dismissed the USD 7,000 claim for lack of sufficient proof. General and punitive damages of UGX 40,000,000 and UGX 20,000,000 respectively were awarded against the 1st Defendant for fraudulent conduct and prolonged non-payment. Interest at 18% per annum on the principal sum and 15% per annum on damages was awarded, along with costs. The suit against the 2nd Defendant was dismissed.",
         "Contracts—writing requirement—money had and received—unjust enrichment—equitable restitution—burden of proof—departure from pleadings—punitive damages—interest—costs",
         "Majari Investments Limited v Betimo General Supplies Limited & Another (Civil Suit 562 of 2020) [2024] UGCommC 347 (31 December 2024)\n                            \n\n  \n    Copy"
        ],
        [
         "1",
         "The Plaintiff sought ownership of land she claimed to have purchased through her then-fiancé, the 1st Defendant, who allegedly registered the land in his name and fraudulently mortgaged it without her consent. The Court found no evidence substantiating her claim, including the absence of a sale agreement, payment receipts, or corroboration of funds sent via Western Union. Her witnesses could not confirm the purchase, and she introduced unpleaded facts during trial by alleging the 2nd Defendant's registration as the land’s proprietor. The Court ruled that the Plaintiff failed to prove ownership or any proprietary rights in the land, rendering the claims of fraud irrelevant. The suit was dismissed, the default judgment against other Defendants was set aside, and costs were awarded to the 2nd Defendant for successfully defending the suit.",
         "Land—ownership disputes—proof of purchase—burden of proof—corroboration—fraud—statute of limitations—departure from pleadings—relationship of parties—fiancée—nature of transaction—dismissal of suit—default judgment set aside—costs awarded.",
         "Mukamuriza v Karugaba & 2 Others (Civil Suit 554 of 2020) [2024] UGCommC 346 (31 December 2024)\n                            \n\n  \n    Copy"
        ]
       ],
       "shape": {
        "columns": 3,
        "rows": 2
       }
      },
      "text/html": [
       "<div>\n",
       "<style scoped>\n",
       "    .dataframe tbody tr th:only-of-type {\n",
       "        vertical-align: middle;\n",
       "    }\n",
       "\n",
       "    .dataframe tbody tr th {\n",
       "        vertical-align: top;\n",
       "    }\n",
       "\n",
       "    .dataframe thead th {\n",
       "        text-align: right;\n",
       "    }\n",
       "</style>\n",
       "<table border=\"1\" class=\"dataframe\">\n",
       "  <thead>\n",
       "    <tr style=\"text-align: right;\">\n",
       "      <th></th>\n",
       "      <th>Case Summary</th>\n",
       "      <th>Flynote</th>\n",
       "      <th>Citation</th>\n",
       "    </tr>\n",
       "  </thead>\n",
       "  <tbody>\n",
       "    <tr>\n",
       "      <th>0</th>\n",
       "      <td>The Plaintiff sought recovery of USD 154,929, ...</td>\n",
       "      <td>Contracts—writing requirement—money had and re...</td>\n",
       "      <td>Majari Investments Limited v Betimo General Su...</td>\n",
       "    </tr>\n",
       "    <tr>\n",
       "      <th>1</th>\n",
       "      <td>The Plaintiff sought ownership of land she cla...</td>\n",
       "      <td>Land—ownership disputes—proof of purchase—burd...</td>\n",
       "      <td>Mukamuriza v Karugaba &amp; 2 Others (Civil Suit 5...</td>\n",
       "    </tr>\n",
       "  </tbody>\n",
       "</table>\n",
       "</div>"
      ],
      "text/plain": [
       "                                        Case Summary  \\\n",
       "0  The Plaintiff sought recovery of USD 154,929, ...   \n",
       "1  The Plaintiff sought ownership of land she cla...   \n",
       "\n",
       "                                             Flynote  \\\n",
       "0  Contracts—writing requirement—money had and re...   \n",
       "1  Land—ownership disputes—proof of purchase—burd...   \n",
       "\n",
       "                                            Citation  \n",
       "0  Majari Investments Limited v Betimo General Su...  \n",
       "1  Mukamuriza v Karugaba & 2 Others (Civil Suit 5...  "
      ]
     },
     "execution_count": 12,
     "metadata": {},
     "output_type": "execute_result"
    }
   ],
   "source": [
    "# Identify Relevant Column for Judgments\n",
    "legal_case_data[['Case Summary', 'Flynote', 'Citation']].head()"
   ]
  },
  {
   "cell_type": "code",
   "execution_count": 15,
   "metadata": {},
   "outputs": [
    {
     "name": "stderr",
     "output_type": "stream",
     "text": [
      "Device set to use cpu\n"
     ]
    }
   ],
   "source": [
    "# Initialize summarization model\n",
    "summarizer = pipeline(\"summarization\", model=\"facebook/bart-large-cnn\")\n",
    "\n",
    "# Define a function to summarize text\n",
    "def summarize_text(text):\n",
    "    if pd.isna(text) or len(text.split()) < 30:  # Skip short/missing summaries\n",
    "        return text\n",
    "    return summarizer(text, max_length=100, min_length=30, do_sample=False)[0]['summary_text']\n",
    "\n",
    "# Apply summarization to each record in the 'Case Summary' column\n",
    "legal_case_data['Abstractive Summary'] = legal_case_data['Case Summary'].apply(summarize_text)\n",
    "\n",
    "# Save results to a new CSV file\n",
    "legal_case_data.to_csv('summarized_judgments.csv', index=False)\n",
    "\n",
    "# Display first few rows to verify\n",
    "# print(legal_case_data[['Case Summary', 'Abstractive Summary']].head())"
   ]
  },
  {
   "cell_type": "code",
   "execution_count": 16,
   "metadata": {},
   "outputs": [
    {
     "data": {
      "application/vnd.microsoft.datawrangler.viewer.v0+json": {
       "columns": [
        {
         "name": "index",
         "rawType": "int64",
         "type": "integer"
        },
        {
         "name": "Case Summary",
         "rawType": "object",
         "type": "string"
        },
        {
         "name": "Abstractive Summary",
         "rawType": "object",
         "type": "string"
        }
       ],
       "conversionMethod": "pd.DataFrame",
       "ref": "be779b09-1196-4186-91f5-334446514f95",
       "rows": [
        [
         "0",
         "The Plaintiff sought recovery of USD 154,929, alleging the Defendants requested funds for a consignment of wine, which was paid to their supplier but not refunded. The Defendants denied the claims, citing no written contract and disputing the alleged arrangement. The Court held that the Plaintiff's claim was based on equitable restitution and unjust enrichment, not enforcement of a written contract, thus circumventing Section 10(5) of the Contracts Act, Cap 284, which mandates contracts exceeding 25 currency points to be in writing. It found the Plaintiff entitled to USD 147,929 as money had and received on the 1st Defendant's behalf but dismissed the USD 7,000 claim for lack of sufficient proof. General and punitive damages of UGX 40,000,000 and UGX 20,000,000 respectively were awarded against the 1st Defendant for fraudulent conduct and prolonged non-payment. Interest at 18% per annum on the principal sum and 15% per annum on damages was awarded, along with costs. The suit against the 2nd Defendant was dismissed.",
         "The Plaintiff sought recovery of USD 154,929, alleging the Defendants requested funds for a consignment of wine. The Defendants denied the claims, citing no written contract and disputing the alleged arrangement. The Court held that the Plaintiff's claim was based on equitable restitution and unjust enrichment, not enforcement of a written contract."
        ],
        [
         "1",
         "The Plaintiff sought ownership of land she claimed to have purchased through her then-fiancé, the 1st Defendant, who allegedly registered the land in his name and fraudulently mortgaged it without her consent. The Court found no evidence substantiating her claim, including the absence of a sale agreement, payment receipts, or corroboration of funds sent via Western Union. Her witnesses could not confirm the purchase, and she introduced unpleaded facts during trial by alleging the 2nd Defendant's registration as the land’s proprietor. The Court ruled that the Plaintiff failed to prove ownership or any proprietary rights in the land, rendering the claims of fraud irrelevant. The suit was dismissed, the default judgment against other Defendants was set aside, and costs were awarded to the 2nd Defendant for successfully defending the suit.",
         "The Plaintiff sought ownership of land she claimed to have purchased through her then-fiancé, the 1st Defendant. The Court found no evidence substantiating her claim, including the absence of a sale agreement."
        ]
       ],
       "shape": {
        "columns": 2,
        "rows": 2
       }
      },
      "text/html": [
       "<div>\n",
       "<style scoped>\n",
       "    .dataframe tbody tr th:only-of-type {\n",
       "        vertical-align: middle;\n",
       "    }\n",
       "\n",
       "    .dataframe tbody tr th {\n",
       "        vertical-align: top;\n",
       "    }\n",
       "\n",
       "    .dataframe thead th {\n",
       "        text-align: right;\n",
       "    }\n",
       "</style>\n",
       "<table border=\"1\" class=\"dataframe\">\n",
       "  <thead>\n",
       "    <tr style=\"text-align: right;\">\n",
       "      <th></th>\n",
       "      <th>Case Summary</th>\n",
       "      <th>Abstractive Summary</th>\n",
       "    </tr>\n",
       "  </thead>\n",
       "  <tbody>\n",
       "    <tr>\n",
       "      <th>0</th>\n",
       "      <td>The Plaintiff sought recovery of USD 154,929, ...</td>\n",
       "      <td>The Plaintiff sought recovery of USD 154,929, ...</td>\n",
       "    </tr>\n",
       "    <tr>\n",
       "      <th>1</th>\n",
       "      <td>The Plaintiff sought ownership of land she cla...</td>\n",
       "      <td>The Plaintiff sought ownership of land she cla...</td>\n",
       "    </tr>\n",
       "  </tbody>\n",
       "</table>\n",
       "</div>"
      ],
      "text/plain": [
       "                                        Case Summary  \\\n",
       "0  The Plaintiff sought recovery of USD 154,929, ...   \n",
       "1  The Plaintiff sought ownership of land she cla...   \n",
       "\n",
       "                                 Abstractive Summary  \n",
       "0  The Plaintiff sought recovery of USD 154,929, ...  \n",
       "1  The Plaintiff sought ownership of land she cla...  "
      ]
     },
     "execution_count": 16,
     "metadata": {},
     "output_type": "execute_result"
    }
   ],
   "source": [
    "legal_case_data[['Case Summary', 'Abstractive Summary']]"
   ]
  },
  {
   "cell_type": "code",
   "execution_count": 55,
   "metadata": {},
   "outputs": [
    {
     "name": "stdout",
     "output_type": "stream",
     "text": [
      "Abstractive summary 1:\n",
      "The Plaintiff sought recovery of USD 154,929, alleging the Defendants requested\n",
      "funds for a consignment of wine. The Defendants denied the claims, citing no\n",
      "written contract and disputing the alleged arrangement. The Court held that the\n",
      "Plaintiff's claim was based on equitable restitution and unjust enrichment, not\n",
      "enforcement of a written contract.\n",
      "\n",
      " Abstractive summary 2:\n",
      "The Plaintiff sought ownership of land she claimed to have purchased through her\n",
      "then-fiancé, the 1st Defendant. The Court found no evidence substantiating her\n",
      "claim, including the absence of a sale agreement. \n"
     ]
    }
   ],
   "source": [
    "import textwrap\n",
    "\n",
    "wrapped_summary1 = textwrap.fill(legal_case_data['Abstractive Summary'][0], width=80)\n",
    "wrapped_summary2 = textwrap.fill(legal_case_data['Abstractive Summary'][1], width=80)\n",
    "print(f'Abstractive summary 1:\\n{wrapped_summary1}\\n\\n Abstractive summary 2:\\n{wrapped_summary2} ')"
   ]
  },
  {
   "cell_type": "code",
   "execution_count": 19,
   "metadata": {},
   "outputs": [],
   "source": [
    "# Initialize LexRank summarizer\n",
    "summarizer = LexRankSummarizer()"
   ]
  },
  {
   "cell_type": "code",
   "execution_count": 20,
   "metadata": {},
   "outputs": [],
   "source": [
    "# function to summarize all case summaries.\n",
    "def extractive_summary(text, num_sentences=3):\n",
    "    \"\"\"Extracts the most important sentences from the text.\"\"\"\n",
    "    if isinstance(text, str) and len(text.split()) > 30: # Check if text is not empty\n",
    "        parser = PlaintextParser.from_string(text, Tokenizer(\"english\"))\n",
    "        summary = summarizer(parser.document, num_sentences)\n",
    "        return \" \".join(str(sentence) for sentence in summary)\n",
    "    return text  \n"
   ]
  },
  {
   "cell_type": "code",
   "execution_count": 48,
   "metadata": {},
   "outputs": [],
   "source": [
    "# Original judgment texts\n",
    "case_1 = legal_case_data['Case Summary'\n",
    "''][0]\n",
    "\n",
    "case_2 = legal_case_data['Case Summary'\n",
    "''][1]\n",
    "\n",
    "# Generate summaries\n",
    "summary_1 = extractive_summary(case_1, num_sentences=3)\n",
    "summary_2 = extractive_summary(case_2, num_sentences=3)\n"
   ]
  },
  {
   "cell_type": "code",
   "execution_count": 49,
   "metadata": {},
   "outputs": [
    {
     "name": "stdout",
     "output_type": "stream",
     "text": [
      "Summarized judgments saved as 'summarized_judgments.csv'.\n"
     ]
    }
   ],
   "source": [
    "\n",
    "# Store results in DataFrame\n",
    "df_summaries = pd.DataFrame({\n",
    "    \"Case Number\": [\"Case 1\", \"Case 2\"],\n",
    "    \"Original Judgment\": [case_1, case_2],\n",
    "    \"Summarized Judgment\": [summary_1, summary_2]})\n",
    "# Save to CSV\n",
    "df_summaries.to_csv(\"summarized_judgments.csv\", index=False)\n",
    "\n",
    "print(\"Summarized judgments saved as 'summarized_judgments.csv'.\")"
   ]
  },
  {
   "cell_type": "code",
   "execution_count": 53,
   "metadata": {},
   "outputs": [
    {
     "data": {
      "image/png": "[encoded data removed]",
      "text/plain": [
       "<Figure size 800x500 with 1 Axes>"
      ]
     },
     "metadata": {},
     "output_type": "display_data"
    }
   ],
   "source": [
    "df_summaries[\"Original Length\"] = df_summaries[\"Original Judgment\"].apply(lambda x: len(x.split()))\n",
    "df_summaries[\"Summarized Length\"] = df_summaries[\"Summarized Judgment\"].apply(lambda x: len(x.split()))\n",
    "\n",
    "# Calculate total lengths\n",
    "total_original_length = df_summaries[\"Original Length\"].sum()\n",
    "total_summarized_length = df_summaries[\"Summarized Length\"].sum()\n",
    "\n",
    "# Data for pie chart\n",
    "lengths = [total_original_length, total_summarized_length]\n",
    "labels = ['Original', 'Summarized']\n",
    "colors = ['red', 'blue']\n",
    "\n",
    "plt.figure(figsize=(8, 5))\n",
    "plt.pie(lengths, labels=labels, colors=colors, autopct='%1.1f%%', startangle=140)\n",
    "plt.title(\"Comparison of Total Word Count: Original vs Summarized Judgments\")\n",
    "plt.show()"
   ]
  },
  {
   "cell_type": "code",
   "execution_count": 52,
   "metadata": {},
   "outputs": [
    {
     "name": "stdout",
     "output_type": "stream",
     "text": [
      "Summarization complete! File saved as summarized_judgments.csv.\n"
     ]
    }
   ],
   "source": [
    "legal_case_data.to_csv(\"summarized_judgments.csv\", index=False)\n",
    "print(\"Summarization complete! File saved as summarized_judgments.csv.\")\n"
   ]
  },
  {
   "cell_type": "code",
   "execution_count": null,
   "metadata": {},
   "outputs": [],
   "source": []
  },
  {
   "cell_type": "markdown",
   "metadata": {},
   "source": [
    "2. Text Data Transformation: Clean and transform the provided dataset called “legal_text.csv”  using suitable and justifiable tools. \n",
    "    - a. Dataset context: The dataset “legal_text.csv” contains  a total of 25000 legal cases. The Case ID column contains a unique identifier for each legal case, the Case Outcome column indicates the outcome of the case, the Case Title column contains the title of the legal case, and the Case Text column contains the text of the legal case. "
   ]
  },
  {
   "cell_type": "code",
   "execution_count": 24,
   "metadata": {},
   "outputs": [
    {
     "data": {
      "application/vnd.microsoft.datawrangler.viewer.v0+json": {
       "columns": [
        {
         "name": "index",
         "rawType": "int64",
         "type": "integer"
        },
        {
         "name": "case_id",
         "rawType": "object",
         "type": "string"
        },
        {
         "name": "case_outcome",
         "rawType": "object",
         "type": "string"
        },
        {
         "name": "case_title",
         "rawType": "object",
         "type": "string"
        },
        {
         "name": "case_text",
         "rawType": "object",
         "type": "string"
        }
       ],
       "conversionMethod": "pd.DataFrame",
       "ref": "04010b4d-2622-4a6e-89dc-a51576119654",
       "rows": [
        [
         "0",
         "Case1",
         "cited",
         "Alpine Hardwood (Aust) Pty Ltd v Hardys Pty Ltd (No 2) [2002] FCA 224 ; (2002) 190 ALR 121",
         "Ordinarily that discretion will be exercised so that costs follow the event and are awarded on a party and party basis. A departure from normal practice to award indemnity costs requires some special or unusual feature in the case: Alpine Hardwood (Aust) Pty Ltd v Hardys Pty Ltd (No 2) [2002] FCA 224 ; (2002) 190 ALR 121 at [11] (Weinberg J) citing Colgate Palmolive Co v Cussons Pty Ltd (1993) 46 FCR 225 at 233 (Sheppard J)."
        ],
        [
         "1",
         "Case2",
         "cited",
         "Black v Lipovac [1998] FCA 699 ; (1998) 217 ALR 386",
         "The general principles governing the exercise of the discretion to award indemnity costs after rejection by an unsuccessful party of a so called Calderbank letter were set out in the judgment of the Full Court in Black v Lipovac [1998] FCA 699 ; (1998) 217 ALR 386. In summary those principles are: 1. Mere refusal of a \"Calderbank offer\" does not itself warrant an order for indemnity costs. In this connection it may be noted that Jessup J in Dais Studio Pty Ltd v Bullet Creative Pty Ltd [2008] FCA 42 said that (at [6]): if the rejection of such an offer is to ground a claim for indemnity costs, it must be by reason of some circumstance other than that the offer happened to comply with the Calderbank principle. 2. To obtain an order for indemnity costs the offeror must show that the refusal to accept it was unreasonable. 3. The reasonableness of the conduct of the offeree is to be viewed in the light of the circumstances that existed when the offer was rejected."
        ],
        [
         "2",
         "Case3",
         "cited",
         "Colgate Palmolive Co v Cussons Pty Ltd (1993) 47 FCR 225",
         "Ordinarily that discretion will be exercised so that costs follow the event and are awarded on a party and party basis. A departure from normal practice to award indemnity costs requires some special or unusual feature in the case: Alpine Hardwood (Aust) Pty Ltd v Hardys Pty Ltd (No 2) [2002] FCA 224 ; (2002) 190 ALR 121 at [11] (Weinberg J) citing Colgate Palmolive Co v Cussons Pty Ltd (1993) 46 FCR 225 at 233 (Sheppard J)."
        ],
        [
         "3",
         "Case4",
         "cited",
         "Dais Studio Pty Ltd v Bullett Creative Pty Ltd [2008] FCA 42",
         "The general principles governing the exercise of the discretion to award indemnity costs after rejection by an unsuccessful party of a so called Calderbank letter were set out in the judgment of the Full Court in Black v Lipovac [1998] FCA 699 ; (1998) 217 ALR 386. In summary those principles are: 1. Mere refusal of a \"Calderbank offer\" does not itself warrant an order for indemnity costs. In this connection it may be noted that Jessup J in Dais Studio Pty Ltd v Bullet Creative Pty Ltd [2008] FCA 42 said that (at [6]): if the rejection of such an offer is to ground a claim for indemnity costs, it must be by reason of some circumstance other than that the offer happened to comply with the Calderbank principle. 2. To obtain an order for indemnity costs the offeror must show that the refusal to accept it was unreasonable. 3. The reasonableness of the conduct of the offeree is to be viewed in the light of the circumstances that existed when the offer was rejected."
        ],
        [
         "4",
         "Case5",
         "cited",
         "Dr Martens Australia Pty Ltd v Figgins Holdings Pty Ltd (No 2) [2000] FCA 602",
         "The preceding general principles inform the exercise of the discretion. That discretion is not to be fettered by transformation of approaches and practices developed through the cases into quasi statutory rules. In John S Hayes &amp; Associates Pty Ltd v Kimberly-Clark Australia Pty Ltd (1994) 52 FCR 201 , Hill J said (at 203): care must be taken not to circumscribe the discretion by reference to closed categories. It is not a necessary condition of the power to award costs that a collateral purpose be shown. The categories warranting the exercise of the discretion are not closed ... See also Goldberg J in Dr Martens Australia Pty Ltd v Figgins Holdings Pty Ltd (No 2) [2000] FCA 602 at [15] ."
        ]
       ],
       "shape": {
        "columns": 4,
        "rows": 5
       }
      },
      "text/html": [
       "<div>\n",
       "<style scoped>\n",
       "    .dataframe tbody tr th:only-of-type {\n",
       "        vertical-align: middle;\n",
       "    }\n",
       "\n",
       "    .dataframe tbody tr th {\n",
       "        vertical-align: top;\n",
       "    }\n",
       "\n",
       "    .dataframe thead th {\n",
       "        text-align: right;\n",
       "    }\n",
       "</style>\n",
       "<table border=\"1\" class=\"dataframe\">\n",
       "  <thead>\n",
       "    <tr style=\"text-align: right;\">\n",
       "      <th></th>\n",
       "      <th>case_id</th>\n",
       "      <th>case_outcome</th>\n",
       "      <th>case_title</th>\n",
       "      <th>case_text</th>\n",
       "    </tr>\n",
       "  </thead>\n",
       "  <tbody>\n",
       "    <tr>\n",
       "      <th>0</th>\n",
       "      <td>Case1</td>\n",
       "      <td>cited</td>\n",
       "      <td>Alpine Hardwood (Aust) Pty Ltd v Hardys Pty Lt...</td>\n",
       "      <td>Ordinarily that discretion will be exercised s...</td>\n",
       "    </tr>\n",
       "    <tr>\n",
       "      <th>1</th>\n",
       "      <td>Case2</td>\n",
       "      <td>cited</td>\n",
       "      <td>Black v Lipovac [1998] FCA 699 ; (1998) 217 AL...</td>\n",
       "      <td>The general principles governing the exercise ...</td>\n",
       "    </tr>\n",
       "    <tr>\n",
       "      <th>2</th>\n",
       "      <td>Case3</td>\n",
       "      <td>cited</td>\n",
       "      <td>Colgate Palmolive Co v Cussons Pty Ltd (1993) ...</td>\n",
       "      <td>Ordinarily that discretion will be exercised s...</td>\n",
       "    </tr>\n",
       "    <tr>\n",
       "      <th>3</th>\n",
       "      <td>Case4</td>\n",
       "      <td>cited</td>\n",
       "      <td>Dais Studio Pty Ltd v Bullett Creative Pty Ltd...</td>\n",
       "      <td>The general principles governing the exercise ...</td>\n",
       "    </tr>\n",
       "    <tr>\n",
       "      <th>4</th>\n",
       "      <td>Case5</td>\n",
       "      <td>cited</td>\n",
       "      <td>Dr Martens Australia Pty Ltd v Figgins Holding...</td>\n",
       "      <td>The preceding general principles inform the ex...</td>\n",
       "    </tr>\n",
       "  </tbody>\n",
       "</table>\n",
       "</div>"
      ],
      "text/plain": [
       "  case_id case_outcome                                         case_title  \\\n",
       "0   Case1        cited  Alpine Hardwood (Aust) Pty Ltd v Hardys Pty Lt...   \n",
       "1   Case2        cited  Black v Lipovac [1998] FCA 699 ; (1998) 217 AL...   \n",
       "2   Case3        cited  Colgate Palmolive Co v Cussons Pty Ltd (1993) ...   \n",
       "3   Case4        cited  Dais Studio Pty Ltd v Bullett Creative Pty Ltd...   \n",
       "4   Case5        cited  Dr Martens Australia Pty Ltd v Figgins Holding...   \n",
       "\n",
       "                                           case_text  \n",
       "0  Ordinarily that discretion will be exercised s...  \n",
       "1  The general principles governing the exercise ...  \n",
       "2  Ordinarily that discretion will be exercised s...  \n",
       "3  The general principles governing the exercise ...  \n",
       "4  The preceding general principles inform the ex...  "
      ]
     },
     "execution_count": 24,
     "metadata": {},
     "output_type": "execute_result"
    }
   ],
   "source": [
    "# Load the dataset\n",
    "legal_text_data = pd.read_csv(\"legal_text.csv\")\n",
    "legal_text_data.head()"
   ]
  },
  {
   "cell_type": "code",
   "execution_count": 25,
   "metadata": {},
   "outputs": [
    {
     "data": {
      "text/plain": [
       "Index(['case_id', 'case_outcome', 'case_title', 'case_text'], dtype='object')"
      ]
     },
     "execution_count": 25,
     "metadata": {},
     "output_type": "execute_result"
    }
   ],
   "source": [
    "legal_text_data.columns"
   ]
  },
  {
   "cell_type": "code",
   "execution_count": 26,
   "metadata": {},
   "outputs": [],
   "source": [
    "# Handle missing values\n",
    "legal_text_data = legal_text_data.dropna(subset=['case_id', 'case_outcome', 'case_title', 'case_text'])"
   ]
  },
  {
   "cell_type": "code",
   "execution_count": 27,
   "metadata": {},
   "outputs": [
    {
     "name": "stdout",
     "output_type": "stream",
     "text": [
      "<class 'pandas.core.frame.DataFrame'>\n",
      "Index: 24809 entries, 0 to 24984\n",
      "Data columns (total 4 columns):\n",
      " #   Column        Non-Null Count  Dtype \n",
      "---  ------        --------------  ----- \n",
      " 0   case_id       24809 non-null  object\n",
      " 1   case_outcome  24809 non-null  object\n",
      " 2   case_title    24809 non-null  object\n",
      " 3   case_text     24809 non-null  object\n",
      "dtypes: object(4)\n",
      "memory usage: 969.1+ KB\n"
     ]
    }
   ],
   "source": [
    "## Check for duplicates\n",
    "legal_text_data = legal_text_data.drop_duplicates(subset=[\"case_id\"])\n",
    "\n",
    "# Check the cleaned dataset\n",
    "legal_text_data.info()\n"
   ]
  },
  {
   "cell_type": "code",
   "execution_count": 30,
   "metadata": {},
   "outputs": [],
   "source": [
    "# Initialize the lemmatizer and stopwords list\n",
    "lemmatizer = WordNetLemmatizer()\n",
    "stop_words = set(stopwords.words(\"english\"))"
   ]
  },
  {
   "cell_type": "code",
   "execution_count": 31,
   "metadata": {},
   "outputs": [],
   "source": [
    "# Function to clean text\n",
    "def clean_text(text):\n",
    "    # Convert text to lowercase\n",
    "    text = text.lower()\n",
    "     # Remove punctuation and numbers\n",
    "    text = re.sub(r'[^\\w\\s]', '', text)\n",
    "    text = re.sub(r'\\d+', '', text)\n",
    "    \n",
    "    # Tokenize the text\n",
    "    words = word_tokenize(text)\n",
    "    \n",
    "    # Remove stopwords and lemmatize the words\n",
    "    cleaned_words = [lemmatizer.lemmatize(word) for word in words if word not in stop_words]\n",
    "    \n",
    "    # Join the words back into a cleaned text\n",
    "    cleaned_text = \" \".join(cleaned_words)\n",
    "    \n",
    "    return cleaned_text"
   ]
  },
  {
   "cell_type": "code",
   "execution_count": 34,
   "metadata": {},
   "outputs": [
    {
     "data": {
      "application/vnd.microsoft.datawrangler.viewer.v0+json": {
       "columns": [
        {
         "name": "index",
         "rawType": "int64",
         "type": "integer"
        },
        {
         "name": "case_id",
         "rawType": "object",
         "type": "string"
        },
        {
         "name": "Cleaned_Case_Text",
         "rawType": "object",
         "type": "string"
        }
       ],
       "conversionMethod": "pd.DataFrame",
       "ref": "3d089509-9816-41a0-bd66-5f709edf3096",
       "rows": [
        [
         "0",
         "Case1",
         "ordinarily discretion exercised cost follow event awarded party party basis departure normal practice award indemnity cost requires special unusual feature case alpine hardwood aust pty ltd v hardy pty ltd fca alr weinberg j citing colgate palmolive co v cussons pty ltd fcr sheppard j"
        ],
        [
         "1",
         "Case2",
         "general principle governing exercise discretion award indemnity cost rejection unsuccessful party called calderbank letter set judgment full court black v lipovac fca alr summary principle mere refusal calderbank offer warrant order indemnity cost connection may noted jessup j dais studio pty ltd v bullet creative pty ltd fca said rejection offer ground claim indemnity cost must reason circumstance offer happened comply calderbank principle obtain order indemnity cost offeror must show refusal accept unreasonable reasonableness conduct offeree viewed light circumstance existed offer rejected"
        ],
        [
         "2",
         "Case3",
         "ordinarily discretion exercised cost follow event awarded party party basis departure normal practice award indemnity cost requires special unusual feature case alpine hardwood aust pty ltd v hardy pty ltd fca alr weinberg j citing colgate palmolive co v cussons pty ltd fcr sheppard j"
        ],
        [
         "3",
         "Case4",
         "general principle governing exercise discretion award indemnity cost rejection unsuccessful party called calderbank letter set judgment full court black v lipovac fca alr summary principle mere refusal calderbank offer warrant order indemnity cost connection may noted jessup j dais studio pty ltd v bullet creative pty ltd fca said rejection offer ground claim indemnity cost must reason circumstance offer happened comply calderbank principle obtain order indemnity cost offeror must show refusal accept unreasonable reasonableness conduct offeree viewed light circumstance existed offer rejected"
        ],
        [
         "4",
         "Case5",
         "preceding general principle inform exercise discretion discretion fettered transformation approach practice developed case quasi statutory rule john hayes amp associate pty ltd v kimberlyclark australia pty ltd fcr hill j said care must taken circumscribe discretion reference closed category necessary condition power award cost collateral purpose shown category warranting exercise discretion closed see also goldberg j dr marten australia pty ltd v figgins holding pty ltd fca"
        ]
       ],
       "shape": {
        "columns": 2,
        "rows": 5
       }
      },
      "text/html": [
       "<div>\n",
       "<style scoped>\n",
       "    .dataframe tbody tr th:only-of-type {\n",
       "        vertical-align: middle;\n",
       "    }\n",
       "\n",
       "    .dataframe tbody tr th {\n",
       "        vertical-align: top;\n",
       "    }\n",
       "\n",
       "    .dataframe thead th {\n",
       "        text-align: right;\n",
       "    }\n",
       "</style>\n",
       "<table border=\"1\" class=\"dataframe\">\n",
       "  <thead>\n",
       "    <tr style=\"text-align: right;\">\n",
       "      <th></th>\n",
       "      <th>case_id</th>\n",
       "      <th>Cleaned_Case_Text</th>\n",
       "    </tr>\n",
       "  </thead>\n",
       "  <tbody>\n",
       "    <tr>\n",
       "      <th>0</th>\n",
       "      <td>Case1</td>\n",
       "      <td>ordinarily discretion exercised cost follow ev...</td>\n",
       "    </tr>\n",
       "    <tr>\n",
       "      <th>1</th>\n",
       "      <td>Case2</td>\n",
       "      <td>general principle governing exercise discretio...</td>\n",
       "    </tr>\n",
       "    <tr>\n",
       "      <th>2</th>\n",
       "      <td>Case3</td>\n",
       "      <td>ordinarily discretion exercised cost follow ev...</td>\n",
       "    </tr>\n",
       "    <tr>\n",
       "      <th>3</th>\n",
       "      <td>Case4</td>\n",
       "      <td>general principle governing exercise discretio...</td>\n",
       "    </tr>\n",
       "    <tr>\n",
       "      <th>4</th>\n",
       "      <td>Case5</td>\n",
       "      <td>preceding general principle inform exercise di...</td>\n",
       "    </tr>\n",
       "  </tbody>\n",
       "</table>\n",
       "</div>"
      ],
      "text/plain": [
       "  case_id                                  Cleaned_Case_Text\n",
       "0   Case1  ordinarily discretion exercised cost follow ev...\n",
       "1   Case2  general principle governing exercise discretio...\n",
       "2   Case3  ordinarily discretion exercised cost follow ev...\n",
       "3   Case4  general principle governing exercise discretio...\n",
       "4   Case5  preceding general principle inform exercise di..."
      ]
     },
     "execution_count": 34,
     "metadata": {},
     "output_type": "execute_result"
    }
   ],
   "source": [
    "# Apply the cleaning function to the 'Case Text' column\n",
    "legal_text_data['Cleaned_Case_Text'] = legal_text_data['case_text'].apply(clean_text)\n",
    "\n",
    "# Display the cleaned text\n",
    "cleaned_text = legal_text_data[['case_id', 'Cleaned_Case_Text']].head()\n",
    "cleaned_text.head()"
   ]
  },
  {
   "cell_type": "code",
   "execution_count": 35,
   "metadata": {},
   "outputs": [
    {
     "data": {
      "application/vnd.microsoft.datawrangler.viewer.v0+json": {
       "columns": [
        {
         "name": "index",
         "rawType": "int64",
         "type": "integer"
        },
        {
         "name": "case_id",
         "rawType": "object",
         "type": "string"
        },
        {
         "name": "Text_Length",
         "rawType": "int64",
         "type": "integer"
        }
       ],
       "conversionMethod": "pd.DataFrame",
       "ref": "2794aa7a-78c9-4f4c-b17d-17fd350b2073",
       "rows": [
        [
         "0",
         "Case1",
         "45"
        ],
        [
         "1",
         "Case2",
         "82"
        ],
        [
         "2",
         "Case3",
         "45"
        ],
        [
         "3",
         "Case4",
         "82"
        ],
        [
         "4",
         "Case5",
         "67"
        ]
       ],
       "shape": {
        "columns": 2,
        "rows": 5
       }
      },
      "text/html": [
       "<div>\n",
       "<style scoped>\n",
       "    .dataframe tbody tr th:only-of-type {\n",
       "        vertical-align: middle;\n",
       "    }\n",
       "\n",
       "    .dataframe tbody tr th {\n",
       "        vertical-align: top;\n",
       "    }\n",
       "\n",
       "    .dataframe thead th {\n",
       "        text-align: right;\n",
       "    }\n",
       "</style>\n",
       "<table border=\"1\" class=\"dataframe\">\n",
       "  <thead>\n",
       "    <tr style=\"text-align: right;\">\n",
       "      <th></th>\n",
       "      <th>case_id</th>\n",
       "      <th>Text_Length</th>\n",
       "    </tr>\n",
       "  </thead>\n",
       "  <tbody>\n",
       "    <tr>\n",
       "      <th>0</th>\n",
       "      <td>Case1</td>\n",
       "      <td>45</td>\n",
       "    </tr>\n",
       "    <tr>\n",
       "      <th>1</th>\n",
       "      <td>Case2</td>\n",
       "      <td>82</td>\n",
       "    </tr>\n",
       "    <tr>\n",
       "      <th>2</th>\n",
       "      <td>Case3</td>\n",
       "      <td>45</td>\n",
       "    </tr>\n",
       "    <tr>\n",
       "      <th>3</th>\n",
       "      <td>Case4</td>\n",
       "      <td>82</td>\n",
       "    </tr>\n",
       "    <tr>\n",
       "      <th>4</th>\n",
       "      <td>Case5</td>\n",
       "      <td>67</td>\n",
       "    </tr>\n",
       "  </tbody>\n",
       "</table>\n",
       "</div>"
      ],
      "text/plain": [
       "  case_id  Text_Length\n",
       "0   Case1           45\n",
       "1   Case2           82\n",
       "2   Case3           45\n",
       "3   Case4           82\n",
       "4   Case5           67"
      ]
     },
     "execution_count": 35,
     "metadata": {},
     "output_type": "execute_result"
    }
   ],
   "source": [
    "# Add a new feature for text length\n",
    "cleaned_text['Text_Length'] = cleaned_text['Cleaned_Case_Text'].apply(lambda x: len(x.split()))\n",
    "\n",
    "# Check the new feature\n",
    "cleaned_text[['case_id', 'Text_Length']].head()"
   ]
  },
  {
   "cell_type": "code",
   "execution_count": 36,
   "metadata": {},
   "outputs": [],
   "source": [
    "# TF-IDF Vectorization\n",
    "tfidf_vectorizer = TfidfVectorizer(max_features=5000)  # the number of features can be adjusted\n",
    "X_tfidf = tfidf_vectorizer.fit_transform(cleaned_text['Cleaned_Case_Text'])"
   ]
  },
  {
   "cell_type": "code",
   "execution_count": 37,
   "metadata": {},
   "outputs": [
    {
     "data": {
      "application/vnd.microsoft.datawrangler.viewer.v0+json": {
       "columns": [
        {
         "name": "index",
         "rawType": "int64",
         "type": "integer"
        },
        {
         "name": "accept",
         "rawType": "float64",
         "type": "float"
        },
        {
         "name": "alpine",
         "rawType": "float64",
         "type": "float"
        },
        {
         "name": "alr",
         "rawType": "float64",
         "type": "float"
        },
        {
         "name": "also",
         "rawType": "float64",
         "type": "float"
        },
        {
         "name": "amp",
         "rawType": "float64",
         "type": "float"
        },
        {
         "name": "approach",
         "rawType": "float64",
         "type": "float"
        },
        {
         "name": "associate",
         "rawType": "float64",
         "type": "float"
        },
        {
         "name": "aust",
         "rawType": "float64",
         "type": "float"
        },
        {
         "name": "australia",
         "rawType": "float64",
         "type": "float"
        },
        {
         "name": "award",
         "rawType": "float64",
         "type": "float"
        },
        {
         "name": "awarded",
         "rawType": "float64",
         "type": "float"
        },
        {
         "name": "basis",
         "rawType": "float64",
         "type": "float"
        },
        {
         "name": "black",
         "rawType": "float64",
         "type": "float"
        },
        {
         "name": "bullet",
         "rawType": "float64",
         "type": "float"
        },
        {
         "name": "calderbank",
         "rawType": "float64",
         "type": "float"
        },
        {
         "name": "called",
         "rawType": "float64",
         "type": "float"
        },
        {
         "name": "care",
         "rawType": "float64",
         "type": "float"
        },
        {
         "name": "case",
         "rawType": "float64",
         "type": "float"
        },
        {
         "name": "category",
         "rawType": "float64",
         "type": "float"
        },
        {
         "name": "circumscribe",
         "rawType": "float64",
         "type": "float"
        },
        {
         "name": "circumstance",
         "rawType": "float64",
         "type": "float"
        },
        {
         "name": "citing",
         "rawType": "float64",
         "type": "float"
        },
        {
         "name": "claim",
         "rawType": "float64",
         "type": "float"
        },
        {
         "name": "closed",
         "rawType": "float64",
         "type": "float"
        },
        {
         "name": "co",
         "rawType": "float64",
         "type": "float"
        },
        {
         "name": "colgate",
         "rawType": "float64",
         "type": "float"
        },
        {
         "name": "collateral",
         "rawType": "float64",
         "type": "float"
        },
        {
         "name": "comply",
         "rawType": "float64",
         "type": "float"
        },
        {
         "name": "condition",
         "rawType": "float64",
         "type": "float"
        },
        {
         "name": "conduct",
         "rawType": "float64",
         "type": "float"
        },
        {
         "name": "connection",
         "rawType": "float64",
         "type": "float"
        },
        {
         "name": "cost",
         "rawType": "float64",
         "type": "float"
        },
        {
         "name": "court",
         "rawType": "float64",
         "type": "float"
        },
        {
         "name": "creative",
         "rawType": "float64",
         "type": "float"
        },
        {
         "name": "cussons",
         "rawType": "float64",
         "type": "float"
        },
        {
         "name": "dais",
         "rawType": "float64",
         "type": "float"
        },
        {
         "name": "departure",
         "rawType": "float64",
         "type": "float"
        },
        {
         "name": "developed",
         "rawType": "float64",
         "type": "float"
        },
        {
         "name": "discretion",
         "rawType": "float64",
         "type": "float"
        },
        {
         "name": "dr",
         "rawType": "float64",
         "type": "float"
        },
        {
         "name": "event",
         "rawType": "float64",
         "type": "float"
        },
        {
         "name": "exercise",
         "rawType": "float64",
         "type": "float"
        },
        {
         "name": "exercised",
         "rawType": "float64",
         "type": "float"
        },
        {
         "name": "existed",
         "rawType": "float64",
         "type": "float"
        },
        {
         "name": "fca",
         "rawType": "float64",
         "type": "float"
        },
        {
         "name": "fcr",
         "rawType": "float64",
         "type": "float"
        },
        {
         "name": "feature",
         "rawType": "float64",
         "type": "float"
        },
        {
         "name": "fettered",
         "rawType": "float64",
         "type": "float"
        },
        {
         "name": "figgins",
         "rawType": "float64",
         "type": "float"
        },
        {
         "name": "follow",
         "rawType": "float64",
         "type": "float"
        },
        {
         "name": "full",
         "rawType": "float64",
         "type": "float"
        },
        {
         "name": "general",
         "rawType": "float64",
         "type": "float"
        },
        {
         "name": "goldberg",
         "rawType": "float64",
         "type": "float"
        },
        {
         "name": "governing",
         "rawType": "float64",
         "type": "float"
        },
        {
         "name": "ground",
         "rawType": "float64",
         "type": "float"
        },
        {
         "name": "happened",
         "rawType": "float64",
         "type": "float"
        },
        {
         "name": "hardwood",
         "rawType": "float64",
         "type": "float"
        },
        {
         "name": "hardy",
         "rawType": "float64",
         "type": "float"
        },
        {
         "name": "hayes",
         "rawType": "float64",
         "type": "float"
        },
        {
         "name": "hill",
         "rawType": "float64",
         "type": "float"
        },
        {
         "name": "holding",
         "rawType": "float64",
         "type": "float"
        },
        {
         "name": "indemnity",
         "rawType": "float64",
         "type": "float"
        },
        {
         "name": "inform",
         "rawType": "float64",
         "type": "float"
        },
        {
         "name": "jessup",
         "rawType": "float64",
         "type": "float"
        },
        {
         "name": "john",
         "rawType": "float64",
         "type": "float"
        },
        {
         "name": "judgment",
         "rawType": "float64",
         "type": "float"
        },
        {
         "name": "kimberlyclark",
         "rawType": "float64",
         "type": "float"
        },
        {
         "name": "letter",
         "rawType": "float64",
         "type": "float"
        },
        {
         "name": "light",
         "rawType": "float64",
         "type": "float"
        },
        {
         "name": "lipovac",
         "rawType": "float64",
         "type": "float"
        },
        {
         "name": "ltd",
         "rawType": "float64",
         "type": "float"
        },
        {
         "name": "marten",
         "rawType": "float64",
         "type": "float"
        },
        {
         "name": "may",
         "rawType": "float64",
         "type": "float"
        },
        {
         "name": "mere",
         "rawType": "float64",
         "type": "float"
        },
        {
         "name": "must",
         "rawType": "float64",
         "type": "float"
        },
        {
         "name": "necessary",
         "rawType": "float64",
         "type": "float"
        },
        {
         "name": "normal",
         "rawType": "float64",
         "type": "float"
        },
        {
         "name": "noted",
         "rawType": "float64",
         "type": "float"
        },
        {
         "name": "obtain",
         "rawType": "float64",
         "type": "float"
        },
        {
         "name": "offer",
         "rawType": "float64",
         "type": "float"
        },
        {
         "name": "offeree",
         "rawType": "float64",
         "type": "float"
        },
        {
         "name": "offeror",
         "rawType": "float64",
         "type": "float"
        },
        {
         "name": "order",
         "rawType": "float64",
         "type": "float"
        },
        {
         "name": "ordinarily",
         "rawType": "float64",
         "type": "float"
        },
        {
         "name": "palmolive",
         "rawType": "float64",
         "type": "float"
        },
        {
         "name": "party",
         "rawType": "float64",
         "type": "float"
        },
        {
         "name": "power",
         "rawType": "float64",
         "type": "float"
        },
        {
         "name": "practice",
         "rawType": "float64",
         "type": "float"
        },
        {
         "name": "preceding",
         "rawType": "float64",
         "type": "float"
        },
        {
         "name": "principle",
         "rawType": "float64",
         "type": "float"
        },
        {
         "name": "pty",
         "rawType": "float64",
         "type": "float"
        },
        {
         "name": "purpose",
         "rawType": "float64",
         "type": "float"
        },
        {
         "name": "quasi",
         "rawType": "float64",
         "type": "float"
        },
        {
         "name": "reason",
         "rawType": "float64",
         "type": "float"
        },
        {
         "name": "reasonableness",
         "rawType": "float64",
         "type": "float"
        },
        {
         "name": "reference",
         "rawType": "float64",
         "type": "float"
        },
        {
         "name": "refusal",
         "rawType": "float64",
         "type": "float"
        },
        {
         "name": "rejected",
         "rawType": "float64",
         "type": "float"
        },
        {
         "name": "rejection",
         "rawType": "float64",
         "type": "float"
        },
        {
         "name": "requires",
         "rawType": "float64",
         "type": "float"
        },
        {
         "name": "rule",
         "rawType": "float64",
         "type": "float"
        },
        {
         "name": "said",
         "rawType": "float64",
         "type": "float"
        },
        {
         "name": "see",
         "rawType": "float64",
         "type": "float"
        },
        {
         "name": "set",
         "rawType": "float64",
         "type": "float"
        },
        {
         "name": "sheppard",
         "rawType": "float64",
         "type": "float"
        },
        {
         "name": "show",
         "rawType": "float64",
         "type": "float"
        },
        {
         "name": "shown",
         "rawType": "float64",
         "type": "float"
        },
        {
         "name": "special",
         "rawType": "float64",
         "type": "float"
        },
        {
         "name": "statutory",
         "rawType": "float64",
         "type": "float"
        },
        {
         "name": "studio",
         "rawType": "float64",
         "type": "float"
        },
        {
         "name": "summary",
         "rawType": "float64",
         "type": "float"
        },
        {
         "name": "taken",
         "rawType": "float64",
         "type": "float"
        },
        {
         "name": "transformation",
         "rawType": "float64",
         "type": "float"
        },
        {
         "name": "unreasonable",
         "rawType": "float64",
         "type": "float"
        },
        {
         "name": "unsuccessful",
         "rawType": "float64",
         "type": "float"
        },
        {
         "name": "unusual",
         "rawType": "float64",
         "type": "float"
        },
        {
         "name": "viewed",
         "rawType": "float64",
         "type": "float"
        },
        {
         "name": "warrant",
         "rawType": "float64",
         "type": "float"
        },
        {
         "name": "warranting",
         "rawType": "float64",
         "type": "float"
        },
        {
         "name": "weinberg",
         "rawType": "float64",
         "type": "float"
        }
       ],
       "conversionMethod": "pd.DataFrame",
       "ref": "25e6a35d-86e8-4ed9-b22c-a6ad74648a46",
       "rows": [
        [
         "0",
         "0.0",
         "0.16503907138238633",
         "0.1152464794845064",
         "0.0",
         "0.0",
         "0.0",
         "0.0",
         "0.16503907138238633",
         "0.0",
         "0.09747473419753491",
         "0.16503907138238633",
         "0.16503907138238633",
         "0.0",
         "0.0",
         "0.0",
         "0.0",
         "0.0",
         "0.136997337836753",
         "0.0",
         "0.0",
         "0.0",
         "0.16503907138238633",
         "0.0",
         "0.0",
         "0.16503907138238633",
         "0.16503907138238633",
         "0.0",
         "0.0",
         "0.0",
         "0.0",
         "0.0",
         "0.19494946839506982",
         "0.0",
         "0.0",
         "0.16503907138238633",
         "0.0",
         "0.16503907138238633",
         "0.0",
         "0.09747473419753491",
         "0.0",
         "0.16503907138238633",
         "0.0",
         "0.16503907138238633",
         "0.0",
         "0.09747473419753491",
         "0.136997337836753",
         "0.16503907138238633",
         "0.0",
         "0.0",
         "0.16503907138238633",
         "0.0",
         "0.0",
         "0.0",
         "0.0",
         "0.0",
         "0.0",
         "0.16503907138238633",
         "0.16503907138238633",
         "0.0",
         "0.0",
         "0.0",
         "0.1152464794845064",
         "0.0",
         "0.0",
         "0.0",
         "0.0",
         "0.0",
         "0.0",
         "0.0",
         "0.0",
         "0.2924242025926047",
         "0.0",
         "0.0",
         "0.0",
         "0.0",
         "0.0",
         "0.16503907138238633",
         "0.0",
         "0.0",
         "0.0",
         "0.0",
         "0.0",
         "0.0",
         "0.16503907138238633",
         "0.16503907138238633",
         "0.2304929589690128",
         "0.0",
         "0.136997337836753",
         "0.0",
         "0.0",
         "0.2924242025926047",
         "0.0",
         "0.0",
         "0.0",
         "0.0",
         "0.0",
         "0.0",
         "0.0",
         "0.0",
         "0.16503907138238633",
         "0.0",
         "0.0",
         "0.0",
         "0.0",
         "0.16503907138238633",
         "0.0",
         "0.0",
         "0.16503907138238633",
         "0.0",
         "0.0",
         "0.0",
         "0.0",
         "0.0",
         "0.0",
         "0.0",
         "0.16503907138238633",
         "0.0",
         "0.0",
         "0.0",
         "0.16503907138238633"
        ],
        [
         "1",
         "0.09566562520401069",
         "0.0",
         "0.06680312982918993",
         "0.0",
         "0.0",
         "0.0",
         "0.0",
         "0.0",
         "0.0",
         "0.05650165933736065",
         "0.0",
         "0.0",
         "0.09566562520401069",
         "0.09566562520401069",
         "0.2869968756120321",
         "0.09566562520401069",
         "0.0",
         "0.0",
         "0.0",
         "0.0",
         "0.19133125040802137",
         "0.0",
         "0.09566562520401069",
         "0.0",
         "0.0",
         "0.0",
         "0.0",
         "0.09566562520401069",
         "0.0",
         "0.09566562520401069",
         "0.09566562520401069",
         "0.2260066373494426",
         "0.09566562520401069",
         "0.09566562520401069",
         "0.0",
         "0.09566562520401069",
         "0.0",
         "0.0",
         "0.05650165933736065",
         "0.0",
         "0.0",
         "0.07941111074887426",
         "0.0",
         "0.09566562520401069",
         "0.1130033186747213",
         "0.0",
         "0.0",
         "0.0",
         "0.0",
         "0.0",
         "0.09566562520401069",
         "0.07941111074887426",
         "0.0",
         "0.09566562520401069",
         "0.09566562520401069",
         "0.09566562520401069",
         "0.0",
         "0.0",
         "0.0",
         "0.0",
         "0.0",
         "0.2672125193167597",
         "0.0",
         "0.09566562520401069",
         "0.0",
         "0.09566562520401069",
         "0.0",
         "0.09566562520401069",
         "0.09566562520401069",
         "0.09566562520401069",
         "0.1130033186747213",
         "0.0",
         "0.09566562520401069",
         "0.09566562520401069",
         "0.15882222149774852",
         "0.0",
         "0.0",
         "0.09566562520401069",
         "0.09566562520401069",
         "0.38266250081604275",
         "0.09566562520401069",
         "0.09566562520401069",
         "0.19133125040802137",
         "0.0",
         "0.0",
         "0.06680312982918993",
         "0.0",
         "0.0",
         "0.0",
         "0.23823333224662277",
         "0.1130033186747213",
         "0.0",
         "0.0",
         "0.09566562520401069",
         "0.09566562520401069",
         "0.0",
         "0.19133125040802137",
         "0.09566562520401069",
         "0.19133125040802137",
         "0.0",
         "0.0",
         "0.07941111074887426",
         "0.0",
         "0.09566562520401069",
         "0.0",
         "0.09566562520401069",
         "0.0",
         "0.0",
         "0.0",
         "0.09566562520401069",
         "0.09566562520401069",
         "0.0",
         "0.0",
         "0.09566562520401069",
         "0.09566562520401069",
         "0.0",
         "0.09566562520401069",
         "0.09566562520401069",
         "0.0",
         "0.0"
        ],
        [
         "2",
         "0.0",
         "0.16503907138238633",
         "0.1152464794845064",
         "0.0",
         "0.0",
         "0.0",
         "0.0",
         "0.16503907138238633",
         "0.0",
         "0.09747473419753491",
         "0.16503907138238633",
         "0.16503907138238633",
         "0.0",
         "0.0",
         "0.0",
         "0.0",
         "0.0",
         "0.136997337836753",
         "0.0",
         "0.0",
         "0.0",
         "0.16503907138238633",
         "0.0",
         "0.0",
         "0.16503907138238633",
         "0.16503907138238633",
         "0.0",
         "0.0",
         "0.0",
         "0.0",
         "0.0",
         "0.19494946839506982",
         "0.0",
         "0.0",
         "0.16503907138238633",
         "0.0",
         "0.16503907138238633",
         "0.0",
         "0.09747473419753491",
         "0.0",
         "0.16503907138238633",
         "0.0",
         "0.16503907138238633",
         "0.0",
         "0.09747473419753491",
         "0.136997337836753",
         "0.16503907138238633",
         "0.0",
         "0.0",
         "0.16503907138238633",
         "0.0",
         "0.0",
         "0.0",
         "0.0",
         "0.0",
         "0.0",
         "0.16503907138238633",
         "0.16503907138238633",
         "0.0",
         "0.0",
         "0.0",
         "0.1152464794845064",
         "0.0",
         "0.0",
         "0.0",
         "0.0",
         "0.0",
         "0.0",
         "0.0",
         "0.0",
         "0.2924242025926047",
         "0.0",
         "0.0",
         "0.0",
         "0.0",
         "0.0",
         "0.16503907138238633",
         "0.0",
         "0.0",
         "0.0",
         "0.0",
         "0.0",
         "0.0",
         "0.16503907138238633",
         "0.16503907138238633",
         "0.2304929589690128",
         "0.0",
         "0.136997337836753",
         "0.0",
         "0.0",
         "0.2924242025926047",
         "0.0",
         "0.0",
         "0.0",
         "0.0",
         "0.0",
         "0.0",
         "0.0",
         "0.0",
         "0.16503907138238633",
         "0.0",
         "0.0",
         "0.0",
         "0.0",
         "0.16503907138238633",
         "0.0",
         "0.0",
         "0.16503907138238633",
         "0.0",
         "0.0",
         "0.0",
         "0.0",
         "0.0",
         "0.0",
         "0.0",
         "0.16503907138238633",
         "0.0",
         "0.0",
         "0.0",
         "0.16503907138238633"
        ],
        [
         "3",
         "0.09566562520401069",
         "0.0",
         "0.06680312982918993",
         "0.0",
         "0.0",
         "0.0",
         "0.0",
         "0.0",
         "0.0",
         "0.05650165933736065",
         "0.0",
         "0.0",
         "0.09566562520401069",
         "0.09566562520401069",
         "0.2869968756120321",
         "0.09566562520401069",
         "0.0",
         "0.0",
         "0.0",
         "0.0",
         "0.19133125040802137",
         "0.0",
         "0.09566562520401069",
         "0.0",
         "0.0",
         "0.0",
         "0.0",
         "0.09566562520401069",
         "0.0",
         "0.09566562520401069",
         "0.09566562520401069",
         "0.2260066373494426",
         "0.09566562520401069",
         "0.09566562520401069",
         "0.0",
         "0.09566562520401069",
         "0.0",
         "0.0",
         "0.05650165933736065",
         "0.0",
         "0.0",
         "0.07941111074887426",
         "0.0",
         "0.09566562520401069",
         "0.1130033186747213",
         "0.0",
         "0.0",
         "0.0",
         "0.0",
         "0.0",
         "0.09566562520401069",
         "0.07941111074887426",
         "0.0",
         "0.09566562520401069",
         "0.09566562520401069",
         "0.09566562520401069",
         "0.0",
         "0.0",
         "0.0",
         "0.0",
         "0.0",
         "0.2672125193167597",
         "0.0",
         "0.09566562520401069",
         "0.0",
         "0.09566562520401069",
         "0.0",
         "0.09566562520401069",
         "0.09566562520401069",
         "0.09566562520401069",
         "0.1130033186747213",
         "0.0",
         "0.09566562520401069",
         "0.09566562520401069",
         "0.15882222149774852",
         "0.0",
         "0.0",
         "0.09566562520401069",
         "0.09566562520401069",
         "0.38266250081604275",
         "0.09566562520401069",
         "0.09566562520401069",
         "0.19133125040802137",
         "0.0",
         "0.0",
         "0.06680312982918993",
         "0.0",
         "0.0",
         "0.0",
         "0.23823333224662277",
         "0.1130033186747213",
         "0.0",
         "0.0",
         "0.09566562520401069",
         "0.09566562520401069",
         "0.0",
         "0.19133125040802137",
         "0.09566562520401069",
         "0.19133125040802137",
         "0.0",
         "0.0",
         "0.07941111074887426",
         "0.0",
         "0.09566562520401069",
         "0.0",
         "0.09566562520401069",
         "0.0",
         "0.0",
         "0.0",
         "0.09566562520401069",
         "0.09566562520401069",
         "0.0",
         "0.0",
         "0.09566562520401069",
         "0.09566562520401069",
         "0.0",
         "0.09566562520401069",
         "0.09566562520401069",
         "0.0",
         "0.0"
        ],
        [
         "4",
         "0.0",
         "0.0",
         "0.0",
         "0.12750127069976144",
         "0.12750127069976144",
         "0.12750127069976144",
         "0.12750127069976144",
         "0.0",
         "0.2550025413995229",
         "0.060755038645409085",
         "0.0",
         "0.0",
         "0.0",
         "0.0",
         "0.0",
         "0.0",
         "0.12750127069976144",
         "0.0853890869578856",
         "0.2550025413995229",
         "0.12750127069976144",
         "0.0",
         "0.0",
         "0.0",
         "0.2550025413995229",
         "0.0",
         "0.0",
         "0.12750127069976144",
         "0.0",
         "0.12750127069976144",
         "0.0",
         "0.0",
         "0.060755038645409085",
         "0.0",
         "0.0",
         "0.0",
         "0.0",
         "0.0",
         "0.12750127069976144",
         "0.24302015458163634",
         "0.12750127069976144",
         "0.0",
         "0.1707781739157712",
         "0.0",
         "0.0",
         "0.060755038645409085",
         "0.0853890869578856",
         "0.0",
         "0.12750127069976144",
         "0.12750127069976144",
         "0.0",
         "0.0",
         "0.0853890869578856",
         "0.12750127069976144",
         "0.0",
         "0.0",
         "0.0",
         "0.0",
         "0.0",
         "0.12750127069976144",
         "0.12750127069976144",
         "0.12750127069976144",
         "0.0",
         "0.12750127069976144",
         "0.0",
         "0.12750127069976144",
         "0.0",
         "0.12750127069976144",
         "0.0",
         "0.0",
         "0.0",
         "0.24302015458163634",
         "0.12750127069976144",
         "0.0",
         "0.0",
         "0.0853890869578856",
         "0.12750127069976144",
         "0.0",
         "0.0",
         "0.0",
         "0.0",
         "0.0",
         "0.0",
         "0.0",
         "0.0",
         "0.0",
         "0.0",
         "0.12750127069976144",
         "0.0853890869578856",
         "0.12750127069976144",
         "0.0853890869578856",
         "0.24302015458163634",
         "0.12750127069976144",
         "0.12750127069976144",
         "0.0",
         "0.0",
         "0.12750127069976144",
         "0.0",
         "0.0",
         "0.0",
         "0.0",
         "0.12750127069976144",
         "0.0853890869578856",
         "0.12750127069976144",
         "0.0",
         "0.0",
         "0.0",
         "0.12750127069976144",
         "0.0",
         "0.12750127069976144",
         "0.0",
         "0.0",
         "0.12750127069976144",
         "0.12750127069976144",
         "0.0",
         "0.0",
         "0.0",
         "0.0",
         "0.0",
         "0.12750127069976144",
         "0.0"
        ]
       ],
       "shape": {
        "columns": 120,
        "rows": 5
       }
      },
      "text/html": [
       "<div>\n",
       "<style scoped>\n",
       "    .dataframe tbody tr th:only-of-type {\n",
       "        vertical-align: middle;\n",
       "    }\n",
       "\n",
       "    .dataframe tbody tr th {\n",
       "        vertical-align: top;\n",
       "    }\n",
       "\n",
       "    .dataframe thead th {\n",
       "        text-align: right;\n",
       "    }\n",
       "</style>\n",
       "<table border=\"1\" class=\"dataframe\">\n",
       "  <thead>\n",
       "    <tr style=\"text-align: right;\">\n",
       "      <th></th>\n",
       "      <th>accept</th>\n",
       "      <th>alpine</th>\n",
       "      <th>alr</th>\n",
       "      <th>also</th>\n",
       "      <th>amp</th>\n",
       "      <th>approach</th>\n",
       "      <th>associate</th>\n",
       "      <th>aust</th>\n",
       "      <th>australia</th>\n",
       "      <th>award</th>\n",
       "      <th>...</th>\n",
       "      <th>summary</th>\n",
       "      <th>taken</th>\n",
       "      <th>transformation</th>\n",
       "      <th>unreasonable</th>\n",
       "      <th>unsuccessful</th>\n",
       "      <th>unusual</th>\n",
       "      <th>viewed</th>\n",
       "      <th>warrant</th>\n",
       "      <th>warranting</th>\n",
       "      <th>weinberg</th>\n",
       "    </tr>\n",
       "  </thead>\n",
       "  <tbody>\n",
       "    <tr>\n",
       "      <th>0</th>\n",
       "      <td>0.000000</td>\n",
       "      <td>0.165039</td>\n",
       "      <td>0.115246</td>\n",
       "      <td>0.000000</td>\n",
       "      <td>0.000000</td>\n",
       "      <td>0.000000</td>\n",
       "      <td>0.000000</td>\n",
       "      <td>0.165039</td>\n",
       "      <td>0.000000</td>\n",
       "      <td>0.097475</td>\n",
       "      <td>...</td>\n",
       "      <td>0.000000</td>\n",
       "      <td>0.000000</td>\n",
       "      <td>0.000000</td>\n",
       "      <td>0.000000</td>\n",
       "      <td>0.000000</td>\n",
       "      <td>0.165039</td>\n",
       "      <td>0.000000</td>\n",
       "      <td>0.000000</td>\n",
       "      <td>0.000000</td>\n",
       "      <td>0.165039</td>\n",
       "    </tr>\n",
       "    <tr>\n",
       "      <th>1</th>\n",
       "      <td>0.095666</td>\n",
       "      <td>0.000000</td>\n",
       "      <td>0.066803</td>\n",
       "      <td>0.000000</td>\n",
       "      <td>0.000000</td>\n",
       "      <td>0.000000</td>\n",
       "      <td>0.000000</td>\n",
       "      <td>0.000000</td>\n",
       "      <td>0.000000</td>\n",
       "      <td>0.056502</td>\n",
       "      <td>...</td>\n",
       "      <td>0.095666</td>\n",
       "      <td>0.000000</td>\n",
       "      <td>0.000000</td>\n",
       "      <td>0.095666</td>\n",
       "      <td>0.095666</td>\n",
       "      <td>0.000000</td>\n",
       "      <td>0.095666</td>\n",
       "      <td>0.095666</td>\n",
       "      <td>0.000000</td>\n",
       "      <td>0.000000</td>\n",
       "    </tr>\n",
       "    <tr>\n",
       "      <th>2</th>\n",
       "      <td>0.000000</td>\n",
       "      <td>0.165039</td>\n",
       "      <td>0.115246</td>\n",
       "      <td>0.000000</td>\n",
       "      <td>0.000000</td>\n",
       "      <td>0.000000</td>\n",
       "      <td>0.000000</td>\n",
       "      <td>0.165039</td>\n",
       "      <td>0.000000</td>\n",
       "      <td>0.097475</td>\n",
       "      <td>...</td>\n",
       "      <td>0.000000</td>\n",
       "      <td>0.000000</td>\n",
       "      <td>0.000000</td>\n",
       "      <td>0.000000</td>\n",
       "      <td>0.000000</td>\n",
       "      <td>0.165039</td>\n",
       "      <td>0.000000</td>\n",
       "      <td>0.000000</td>\n",
       "      <td>0.000000</td>\n",
       "      <td>0.165039</td>\n",
       "    </tr>\n",
       "    <tr>\n",
       "      <th>3</th>\n",
       "      <td>0.095666</td>\n",
       "      <td>0.000000</td>\n",
       "      <td>0.066803</td>\n",
       "      <td>0.000000</td>\n",
       "      <td>0.000000</td>\n",
       "      <td>0.000000</td>\n",
       "      <td>0.000000</td>\n",
       "      <td>0.000000</td>\n",
       "      <td>0.000000</td>\n",
       "      <td>0.056502</td>\n",
       "      <td>...</td>\n",
       "      <td>0.095666</td>\n",
       "      <td>0.000000</td>\n",
       "      <td>0.000000</td>\n",
       "      <td>0.095666</td>\n",
       "      <td>0.095666</td>\n",
       "      <td>0.000000</td>\n",
       "      <td>0.095666</td>\n",
       "      <td>0.095666</td>\n",
       "      <td>0.000000</td>\n",
       "      <td>0.000000</td>\n",
       "    </tr>\n",
       "    <tr>\n",
       "      <th>4</th>\n",
       "      <td>0.000000</td>\n",
       "      <td>0.000000</td>\n",
       "      <td>0.000000</td>\n",
       "      <td>0.127501</td>\n",
       "      <td>0.127501</td>\n",
       "      <td>0.127501</td>\n",
       "      <td>0.127501</td>\n",
       "      <td>0.000000</td>\n",
       "      <td>0.255003</td>\n",
       "      <td>0.060755</td>\n",
       "      <td>...</td>\n",
       "      <td>0.000000</td>\n",
       "      <td>0.127501</td>\n",
       "      <td>0.127501</td>\n",
       "      <td>0.000000</td>\n",
       "      <td>0.000000</td>\n",
       "      <td>0.000000</td>\n",
       "      <td>0.000000</td>\n",
       "      <td>0.000000</td>\n",
       "      <td>0.127501</td>\n",
       "      <td>0.000000</td>\n",
       "    </tr>\n",
       "  </tbody>\n",
       "</table>\n",
       "<p>5 rows × 120 columns</p>\n",
       "</div>"
      ],
      "text/plain": [
       "     accept    alpine       alr      also       amp  approach  associate  \\\n",
       "0  0.000000  0.165039  0.115246  0.000000  0.000000  0.000000   0.000000   \n",
       "1  0.095666  0.000000  0.066803  0.000000  0.000000  0.000000   0.000000   \n",
       "2  0.000000  0.165039  0.115246  0.000000  0.000000  0.000000   0.000000   \n",
       "3  0.095666  0.000000  0.066803  0.000000  0.000000  0.000000   0.000000   \n",
       "4  0.000000  0.000000  0.000000  0.127501  0.127501  0.127501   0.127501   \n",
       "\n",
       "       aust  australia     award  ...   summary     taken  transformation  \\\n",
       "0  0.165039   0.000000  0.097475  ...  0.000000  0.000000        0.000000   \n",
       "1  0.000000   0.000000  0.056502  ...  0.095666  0.000000        0.000000   \n",
       "2  0.165039   0.000000  0.097475  ...  0.000000  0.000000        0.000000   \n",
       "3  0.000000   0.000000  0.056502  ...  0.095666  0.000000        0.000000   \n",
       "4  0.000000   0.255003  0.060755  ...  0.000000  0.127501        0.127501   \n",
       "\n",
       "   unreasonable  unsuccessful   unusual    viewed   warrant  warranting  \\\n",
       "0      0.000000      0.000000  0.165039  0.000000  0.000000    0.000000   \n",
       "1      0.095666      0.095666  0.000000  0.095666  0.095666    0.000000   \n",
       "2      0.000000      0.000000  0.165039  0.000000  0.000000    0.000000   \n",
       "3      0.095666      0.095666  0.000000  0.095666  0.095666    0.000000   \n",
       "4      0.000000      0.000000  0.000000  0.000000  0.000000    0.127501   \n",
       "\n",
       "   weinberg  \n",
       "0  0.165039  \n",
       "1  0.000000  \n",
       "2  0.165039  \n",
       "3  0.000000  \n",
       "4  0.000000  \n",
       "\n",
       "[5 rows x 120 columns]"
      ]
     },
     "execution_count": 37,
     "metadata": {},
     "output_type": "execute_result"
    }
   ],
   "source": [
    "# Convert the sparse matrix to a DataFrame for inspection\n",
    "tfidf_df = pd.DataFrame(X_tfidf.toarray(), columns=tfidf_vectorizer.get_feature_names_out())\n",
    "tfidf_df.head()"
   ]
  },
  {
   "cell_type": "code",
   "execution_count": 38,
   "metadata": {},
   "outputs": [
    {
     "data": {
      "text/plain": [
       "Index(['case_id', 'case_outcome', 'case_title', 'case_text',\n",
       "       'Cleaned_Case_Text'],\n",
       "      dtype='object')"
      ]
     },
     "execution_count": 38,
     "metadata": {},
     "output_type": "execute_result"
    }
   ],
   "source": [
    "legal_text_data.columns"
   ]
  },
  {
   "cell_type": "code",
   "execution_count": 39,
   "metadata": {},
   "outputs": [
    {
     "name": "stdout",
     "output_type": "stream",
     "text": [
      "Data cleaning and preprocessing completed successfully and files saved!\n"
     ]
    }
   ],
   "source": [
    "# Save the cleaned dataset to a new CSV file\n",
    "legal_text_data.to_csv(\"cleaned_legal_text.csv\", index=False)\n",
    "\n",
    "# Save the TF-IDF matrix to a CSV\n",
    "tfidf_df.to_csv(\"tfidf_legal_text.csv\", index=False)\n",
    "\n",
    "print(\"Data cleaning and preprocessing completed successfully and files saved!\")\n"
   ]
  },
  {
   "cell_type": "code",
   "execution_count": null,
   "metadata": {},
   "outputs": [],
   "source": []
  },
  {
   "cell_type": "markdown",
   "metadata": {},
   "source": [
    "3. Text Data Exploration: \n",
    "    - a. Explain the Case_Outcome distributions using visuals.  \n",
    "    - b. Identify the most frequently used 50 words in the Case_Text using suitable visuals. "
   ]
  },
  {
   "cell_type": "code",
   "execution_count": 40,
   "metadata": {},
   "outputs": [
    {
     "data": {
      "application/vnd.microsoft.datawrangler.viewer.v0+json": {
       "columns": [
        {
         "name": "index",
         "rawType": "int64",
         "type": "integer"
        },
        {
         "name": "case_id",
         "rawType": "object",
         "type": "string"
        },
        {
         "name": "case_outcome",
         "rawType": "object",
         "type": "string"
        },
        {
         "name": "case_title",
         "rawType": "object",
         "type": "string"
        },
        {
         "name": "case_text",
         "rawType": "object",
         "type": "string"
        },
        {
         "name": "Cleaned_Case_Text",
         "rawType": "object",
         "type": "string"
        }
       ],
       "conversionMethod": "pd.DataFrame",
       "ref": "deecac75-bb09-40ab-8e26-05fd351050a7",
       "rows": [
        [
         "0",
         "Case1",
         "cited",
         "Alpine Hardwood (Aust) Pty Ltd v Hardys Pty Ltd (No 2) [2002] FCA 224 ; (2002) 190 ALR 121",
         "Ordinarily that discretion will be exercised so that costs follow the event and are awarded on a party and party basis. A departure from normal practice to award indemnity costs requires some special or unusual feature in the case: Alpine Hardwood (Aust) Pty Ltd v Hardys Pty Ltd (No 2) [2002] FCA 224 ; (2002) 190 ALR 121 at [11] (Weinberg J) citing Colgate Palmolive Co v Cussons Pty Ltd (1993) 46 FCR 225 at 233 (Sheppard J).",
         "ordinarily discretion exercised cost follow event awarded party party basis departure normal practice award indemnity cost requires special unusual feature case alpine hardwood aust pty ltd v hardy pty ltd fca alr weinberg j citing colgate palmolive co v cussons pty ltd fcr sheppard j"
        ],
        [
         "1",
         "Case2",
         "cited",
         "Black v Lipovac [1998] FCA 699 ; (1998) 217 ALR 386",
         "The general principles governing the exercise of the discretion to award indemnity costs after rejection by an unsuccessful party of a so called Calderbank letter were set out in the judgment of the Full Court in Black v Lipovac [1998] FCA 699 ; (1998) 217 ALR 386. In summary those principles are: 1. Mere refusal of a \"Calderbank offer\" does not itself warrant an order for indemnity costs. In this connection it may be noted that Jessup J in Dais Studio Pty Ltd v Bullet Creative Pty Ltd [2008] FCA 42 said that (at [6]): if the rejection of such an offer is to ground a claim for indemnity costs, it must be by reason of some circumstance other than that the offer happened to comply with the Calderbank principle. 2. To obtain an order for indemnity costs the offeror must show that the refusal to accept it was unreasonable. 3. The reasonableness of the conduct of the offeree is to be viewed in the light of the circumstances that existed when the offer was rejected.",
         "general principle governing exercise discretion award indemnity cost rejection unsuccessful party called calderbank letter set judgment full court black v lipovac fca alr summary principle mere refusal calderbank offer warrant order indemnity cost connection may noted jessup j dais studio pty ltd v bullet creative pty ltd fca said rejection offer ground claim indemnity cost must reason circumstance offer happened comply calderbank principle obtain order indemnity cost offeror must show refusal accept unreasonable reasonableness conduct offeree viewed light circumstance existed offer rejected"
        ],
        [
         "2",
         "Case3",
         "cited",
         "Colgate Palmolive Co v Cussons Pty Ltd (1993) 47 FCR 225",
         "Ordinarily that discretion will be exercised so that costs follow the event and are awarded on a party and party basis. A departure from normal practice to award indemnity costs requires some special or unusual feature in the case: Alpine Hardwood (Aust) Pty Ltd v Hardys Pty Ltd (No 2) [2002] FCA 224 ; (2002) 190 ALR 121 at [11] (Weinberg J) citing Colgate Palmolive Co v Cussons Pty Ltd (1993) 46 FCR 225 at 233 (Sheppard J).",
         "ordinarily discretion exercised cost follow event awarded party party basis departure normal practice award indemnity cost requires special unusual feature case alpine hardwood aust pty ltd v hardy pty ltd fca alr weinberg j citing colgate palmolive co v cussons pty ltd fcr sheppard j"
        ],
        [
         "3",
         "Case4",
         "cited",
         "Dais Studio Pty Ltd v Bullett Creative Pty Ltd [2008] FCA 42",
         "The general principles governing the exercise of the discretion to award indemnity costs after rejection by an unsuccessful party of a so called Calderbank letter were set out in the judgment of the Full Court in Black v Lipovac [1998] FCA 699 ; (1998) 217 ALR 386. In summary those principles are: 1. Mere refusal of a \"Calderbank offer\" does not itself warrant an order for indemnity costs. In this connection it may be noted that Jessup J in Dais Studio Pty Ltd v Bullet Creative Pty Ltd [2008] FCA 42 said that (at [6]): if the rejection of such an offer is to ground a claim for indemnity costs, it must be by reason of some circumstance other than that the offer happened to comply with the Calderbank principle. 2. To obtain an order for indemnity costs the offeror must show that the refusal to accept it was unreasonable. 3. The reasonableness of the conduct of the offeree is to be viewed in the light of the circumstances that existed when the offer was rejected.",
         "general principle governing exercise discretion award indemnity cost rejection unsuccessful party called calderbank letter set judgment full court black v lipovac fca alr summary principle mere refusal calderbank offer warrant order indemnity cost connection may noted jessup j dais studio pty ltd v bullet creative pty ltd fca said rejection offer ground claim indemnity cost must reason circumstance offer happened comply calderbank principle obtain order indemnity cost offeror must show refusal accept unreasonable reasonableness conduct offeree viewed light circumstance existed offer rejected"
        ],
        [
         "4",
         "Case5",
         "cited",
         "Dr Martens Australia Pty Ltd v Figgins Holdings Pty Ltd (No 2) [2000] FCA 602",
         "The preceding general principles inform the exercise of the discretion. That discretion is not to be fettered by transformation of approaches and practices developed through the cases into quasi statutory rules. In John S Hayes &amp; Associates Pty Ltd v Kimberly-Clark Australia Pty Ltd (1994) 52 FCR 201 , Hill J said (at 203): care must be taken not to circumscribe the discretion by reference to closed categories. It is not a necessary condition of the power to award costs that a collateral purpose be shown. The categories warranting the exercise of the discretion are not closed ... See also Goldberg J in Dr Martens Australia Pty Ltd v Figgins Holdings Pty Ltd (No 2) [2000] FCA 602 at [15] .",
         "preceding general principle inform exercise discretion discretion fettered transformation approach practice developed case quasi statutory rule john hayes amp associate pty ltd v kimberlyclark australia pty ltd fcr hill j said care must taken circumscribe discretion reference closed category necessary condition power award cost collateral purpose shown category warranting exercise discretion closed see also goldberg j dr marten australia pty ltd v figgins holding pty ltd fca"
        ]
       ],
       "shape": {
        "columns": 5,
        "rows": 5
       }
      },
      "text/html": [
       "<div>\n",
       "<style scoped>\n",
       "    .dataframe tbody tr th:only-of-type {\n",
       "        vertical-align: middle;\n",
       "    }\n",
       "\n",
       "    .dataframe tbody tr th {\n",
       "        vertical-align: top;\n",
       "    }\n",
       "\n",
       "    .dataframe thead th {\n",
       "        text-align: right;\n",
       "    }\n",
       "</style>\n",
       "<table border=\"1\" class=\"dataframe\">\n",
       "  <thead>\n",
       "    <tr style=\"text-align: right;\">\n",
       "      <th></th>\n",
       "      <th>case_id</th>\n",
       "      <th>case_outcome</th>\n",
       "      <th>case_title</th>\n",
       "      <th>case_text</th>\n",
       "      <th>Cleaned_Case_Text</th>\n",
       "    </tr>\n",
       "  </thead>\n",
       "  <tbody>\n",
       "    <tr>\n",
       "      <th>0</th>\n",
       "      <td>Case1</td>\n",
       "      <td>cited</td>\n",
       "      <td>Alpine Hardwood (Aust) Pty Ltd v Hardys Pty Lt...</td>\n",
       "      <td>Ordinarily that discretion will be exercised s...</td>\n",
       "      <td>ordinarily discretion exercised cost follow ev...</td>\n",
       "    </tr>\n",
       "    <tr>\n",
       "      <th>1</th>\n",
       "      <td>Case2</td>\n",
       "      <td>cited</td>\n",
       "      <td>Black v Lipovac [1998] FCA 699 ; (1998) 217 AL...</td>\n",
       "      <td>The general principles governing the exercise ...</td>\n",
       "      <td>general principle governing exercise discretio...</td>\n",
       "    </tr>\n",
       "    <tr>\n",
       "      <th>2</th>\n",
       "      <td>Case3</td>\n",
       "      <td>cited</td>\n",
       "      <td>Colgate Palmolive Co v Cussons Pty Ltd (1993) ...</td>\n",
       "      <td>Ordinarily that discretion will be exercised s...</td>\n",
       "      <td>ordinarily discretion exercised cost follow ev...</td>\n",
       "    </tr>\n",
       "    <tr>\n",
       "      <th>3</th>\n",
       "      <td>Case4</td>\n",
       "      <td>cited</td>\n",
       "      <td>Dais Studio Pty Ltd v Bullett Creative Pty Ltd...</td>\n",
       "      <td>The general principles governing the exercise ...</td>\n",
       "      <td>general principle governing exercise discretio...</td>\n",
       "    </tr>\n",
       "    <tr>\n",
       "      <th>4</th>\n",
       "      <td>Case5</td>\n",
       "      <td>cited</td>\n",
       "      <td>Dr Martens Australia Pty Ltd v Figgins Holding...</td>\n",
       "      <td>The preceding general principles inform the ex...</td>\n",
       "      <td>preceding general principle inform exercise di...</td>\n",
       "    </tr>\n",
       "  </tbody>\n",
       "</table>\n",
       "</div>"
      ],
      "text/plain": [
       "  case_id case_outcome                                         case_title  \\\n",
       "0   Case1        cited  Alpine Hardwood (Aust) Pty Ltd v Hardys Pty Lt...   \n",
       "1   Case2        cited  Black v Lipovac [1998] FCA 699 ; (1998) 217 AL...   \n",
       "2   Case3        cited  Colgate Palmolive Co v Cussons Pty Ltd (1993) ...   \n",
       "3   Case4        cited  Dais Studio Pty Ltd v Bullett Creative Pty Ltd...   \n",
       "4   Case5        cited  Dr Martens Australia Pty Ltd v Figgins Holding...   \n",
       "\n",
       "                                           case_text  \\\n",
       "0  Ordinarily that discretion will be exercised s...   \n",
       "1  The general principles governing the exercise ...   \n",
       "2  Ordinarily that discretion will be exercised s...   \n",
       "3  The general principles governing the exercise ...   \n",
       "4  The preceding general principles inform the ex...   \n",
       "\n",
       "                                   Cleaned_Case_Text  \n",
       "0  ordinarily discretion exercised cost follow ev...  \n",
       "1  general principle governing exercise discretio...  \n",
       "2  ordinarily discretion exercised cost follow ev...  \n",
       "3  general principle governing exercise discretio...  \n",
       "4  preceding general principle inform exercise di...  "
      ]
     },
     "execution_count": 40,
     "metadata": {},
     "output_type": "execute_result"
    }
   ],
   "source": [
    "text_data = pd.read_csv('cleaned_legal_text.csv')\n",
    "text_data.head()"
   ]
  },
  {
   "cell_type": "code",
   "execution_count": 41,
   "metadata": {},
   "outputs": [
    {
     "data": {
      "text/plain": [
       "Index(['case_id', 'case_outcome', 'case_title', 'case_text',\n",
       "       'Cleaned_Case_Text'],\n",
       "      dtype='object')"
      ]
     },
     "execution_count": 41,
     "metadata": {},
     "output_type": "execute_result"
    }
   ],
   "source": [
    "text_data.columns"
   ]
  },
  {
   "cell_type": "code",
   "execution_count": 42,
   "metadata": {},
   "outputs": [
    {
     "data": {
      "image/png": "[encoded data removed]",
      "text/plain": [
       "<Figure size 1000x600 with 1 Axes>"
      ]
     },
     "metadata": {},
     "output_type": "display_data"
    }
   ],
   "source": [
    "# Visualize the Case_Outcome distribution\n",
    "plt.figure(figsize=(10, 6))\n",
    "sns.countplot(data=text_data, x='case_outcome', palette='Set2')\n",
    "plt.title('Distribution of Case Outcomes')\n",
    "plt.xlabel('Case Outcome')\n",
    "plt.ylabel('Count')\n",
    "plt.xticks(rotation=45, ha='right')\n",
    "plt.tight_layout()\n",
    "plt.show()"
   ]
  },
  {
   "cell_type": "markdown",
   "metadata": {},
   "source": [
    "The number of case outcomes shows that **\"cited\"** is the most frequent outcome, with over 12,000 occurrences, indicating that legal cases cite previous cases as part of their judgments. Other regular outcomes are **\"referred to\"**, **\"applied\"**, and **\"followed\"**, which indicates that legal precedent plays a significant role in making judgments. Less frequent outcomes like **\"related,\" \"considered,\" \"discussed,\" \"distinguished,\" \"affirmed,\" and \"approved\"** are found to have much lower frequencies, which indicate that cases are not so often explicitly distinguished or affirmed. This trend is due to the overreliance on past rulings in judicial proceedings."
   ]
  },
  {
   "cell_type": "code",
   "execution_count": null,
   "metadata": {},
   "outputs": [],
   "source": []
  },
  {
   "cell_type": "code",
   "execution_count": 43,
   "metadata": {},
   "outputs": [],
   "source": [
    "# Identify the most frequently used words in Case_Text\n",
    "# Get all the words from the 'cleaned_case_text' column\n",
    "all_words = ' '.join(text_data['Cleaned_Case_Text']).split()\n",
    "# all_words"
   ]
  },
  {
   "cell_type": "code",
   "execution_count": 44,
   "metadata": {},
   "outputs": [
    {
     "data": {
      "text/plain": [
       "['ordinarily',\n",
       " 'discretion',\n",
       " 'exercised',\n",
       " 'cost',\n",
       " 'follow',\n",
       " 'event',\n",
       " 'awarded',\n",
       " 'party',\n",
       " 'party',\n",
       " 'basis']"
      ]
     },
     "execution_count": 44,
     "metadata": {},
     "output_type": "execute_result"
    }
   ],
   "source": [
    "# Remove stopwords\n",
    "stop_words = set(stopwords.words('english'))\n",
    "filtered_words = [word for word in all_words if word not in stop_words]\n",
    "filtered_words[:10]"
   ]
  },
  {
   "cell_type": "code",
   "execution_count": 45,
   "metadata": {},
   "outputs": [
    {
     "data": {
      "text/plain": [
       "[('v', 90180),\n",
       " ('court', 59543),\n",
       " ('ltd', 47104),\n",
       " ('j', 43951),\n",
       " ('case', 35794),\n",
       " ('act', 34985),\n",
       " ('pty', 32270),\n",
       " ('applicant', 31173),\n",
       " ('would', 27737),\n",
       " ('tribunal', 27401),\n",
       " ('decision', 25579),\n",
       " ('may', 25367),\n",
       " ('evidence', 25342),\n",
       " ('made', 24858),\n",
       " ('mr', 22762),\n",
       " ('order', 22585),\n",
       " ('per', 22133),\n",
       " ('fca', 22022),\n",
       " ('claim', 21960),\n",
       " ('party', 21867),\n",
       " ('whether', 21805),\n",
       " ('hca', 21387),\n",
       " ('clr', 21174),\n",
       " ('document', 20418),\n",
       " ('proceeding', 20401),\n",
       " ('application', 19537),\n",
       " ('see', 19367),\n",
       " ('matter', 19127),\n",
       " ('respondent', 18570),\n",
       " ('said', 18141),\n",
       " ('australia', 17963),\n",
       " ('reason', 17871),\n",
       " ('question', 17289),\n",
       " ('law', 17170),\n",
       " ('fcr', 17038),\n",
       " ('legal', 16688),\n",
       " ('also', 16446),\n",
       " ('minister', 16341),\n",
       " ('fact', 16293),\n",
       " ('purpose', 15360),\n",
       " ('issue', 15233),\n",
       " ('upon', 14510),\n",
       " ('relevant', 14285),\n",
       " ('appellant', 14248),\n",
       " ('appeal', 14246),\n",
       " ('must', 14221),\n",
       " ('person', 14181),\n",
       " ('circumstance', 13998),\n",
       " ('one', 13746),\n",
       " ('privilege', 13465)]"
      ]
     },
     "execution_count": 45,
     "metadata": {},
     "output_type": "execute_result"
    }
   ],
   "source": [
    "# Create a Counter object to get the 50 most common words\n",
    "word_counts = Counter(filtered_words)\n",
    "most_common_words = word_counts.most_common(50)\n",
    "most_common_words"
   ]
  },
  {
   "cell_type": "markdown",
   "metadata": {},
   "source": [
    "Clean the text"
   ]
  },
  {
   "cell_type": "code",
   "execution_count": 46,
   "metadata": {},
   "outputs": [
    {
     "data": {
      "image/png": "[encoded data removed]",
      "text/plain": [
       "<Figure size 1000x600 with 1 Axes>"
      ]
     },
     "metadata": {},
     "output_type": "display_data"
    }
   ],
   "source": [
    "# Initialize Stopwords and Lemmatizer\n",
    "stop_words = set(stopwords.words('english'))\n",
    "lemmatizer = WordNetLemmatizer()\n",
    "\n",
    "# Function to clean text\n",
    "def clean_text(text):\n",
    "    # Convert text to lowercase\n",
    "    text = text.lower()\n",
    "\n",
    "    # Remove punctuation and numbers\n",
    "    text = re.sub(r'[^\\w\\s]', '', text)  # Remove special characters\n",
    "    text = re.sub(r'\\d+', '', text)  # Remove numbers\n",
    "\n",
    "    # Tokenize the text\n",
    "    words = word_tokenize(text)\n",
    "\n",
    "    # Remove stopwords, lemmatize words, and remove single-letter words\n",
    "    cleaned_words = [lemmatizer.lemmatize(word) for word in words if word not in stop_words and len(word) > 1]\n",
    "\n",
    "    # Join words back into cleaned text\n",
    "    cleaned_text = \" \".join(cleaned_words)\n",
    "\n",
    "    return cleaned_text\n",
    "\n",
    "# Apply the updated function\n",
    "text_data['cleaned_case_text'] = text_data['case_text'].apply(clean_text)\n",
    "\n",
    "# Ensure one-letter words are removed\n",
    "all_words = ' '.join(text_data['cleaned_case_text']).split()\n",
    "\n",
    "# Remove single-letter words (in case any remain)\n",
    "filtered_words = [word for word in all_words if len(word) > 1]\n",
    "\n",
    "# Count the most common words\n",
    "word_counts = Counter(filtered_words)\n",
    "most_common_words = word_counts.most_common(50)\n",
    "\n",
    "# Generate and display WordCloud\n",
    "wordcloud = WordCloud(width=800, height=400, max_words=50, background_color='white').generate_from_frequencies(dict(most_common_words))\n",
    "\n",
    "plt.figure(figsize=(10, 6))\n",
    "plt.imshow(wordcloud, interpolation='bilinear')\n",
    "plt.axis('off')\n",
    "plt.title('Most Frequently Used 50 Words (No One-Letter Words)')\n",
    "plt.show()"
   ]
  },
  {
   "cell_type": "code",
   "execution_count": 47,
   "metadata": {},
   "outputs": [
    {
     "data": {
      "image/png": "[encoded data removed]",
      "text/plain": [
       "<Figure size 1200x800 with 1 Axes>"
      ]
     },
     "metadata": {},
     "output_type": "display_data"
    }
   ],
   "source": [
    "# Visualize top 50 most common words using a bar plot\n",
    "top_50_words = dict(most_common_words)\n",
    "\n",
    "# Create a bar plot\n",
    "plt.figure(figsize=(12, 8))\n",
    "sns.barplot(x=list(top_50_words.values()), y=list(top_50_words.keys()), palette='viridis')\n",
    "plt.title('Top 50 Most Frequent Words in Case Text')\n",
    "plt.xlabel('Frequency')\n",
    "plt.ylabel('Words')\n",
    "plt.tight_layout()\n",
    "plt.show()"
   ]
  },
  {
   "cell_type": "code",
   "execution_count": null,
   "metadata": {},
   "outputs": [],
   "source": []
  }
 ],
 "metadata": {
  "kernelspec": {
   "display_name": "tf-env",
   "language": "python",
   "name": "python3"
  },
  "language_info": {
   "codemirror_mode": {
    "name": "ipython",
    "version": 3
   },
   "file_extension": ".py",
   "mimetype": "text/x-python",
   "name": "python",
   "nbconvert_exporter": "python",
   "pygments_lexer": "ipython3",
   "version": "3.13.1"
  }
 },
 "nbformat": 4,
 "nbformat_minor": 2
}
